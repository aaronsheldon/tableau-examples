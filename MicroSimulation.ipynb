{
 "cells": [
  {
   "cell_type": "markdown",
   "metadata": {
    "slideshow": {
     "slide_type": "slide"
    }
   },
   "source": [
    "# Stochastically Generated Clinical Visits\n",
    "## A Multi-Graph Micro-Simulation Example"
   ]
  },
  {
   "cell_type": "markdown",
   "metadata": {
    "slideshow": {
     "slide_type": "slide"
    }
   },
   "source": [
    "### Motivation"
   ]
  },
  {
   "cell_type": "markdown",
   "metadata": {
    "slideshow": {
     "slide_type": "fragment"
    }
   },
   "source": [
    "This notebook demonstrates a micro-simulation of patients visiting clinical staff. We were motivated to develop this micro-simulation in response to a challenge during privacy and anonymity software course to provide an example of a [Graph][1] that would be expected to occur in the health sciences and be analogous to the Graphs that occur social media. Specifically, we where challenged to provide an example of self-referential or recursive, dataset of relationships between pairs of people. To this end, when clinical staff are allowed to be patients as well, and patients are allowed to have multiple visits over a time span, the record of patient visits with clinical staff is a self-referential data set. This dataset turns out to be a [Multi-Graph][2] with the [Edge][3] sets parameterized by time, under the constraint that at any moment in time a patient vertex is unique in the set of all edges that exist at that moment. This constraint amounts to requiring that every patient is involved in only one visit at a time.\n",
    "\n",
    "[1]: https://en.wikipedia.org/wiki/Graph_theory\n",
    "[2]: https://en.wikipedia.org/wiki/Multigraph\n",
    "[3]: https://en.wikipedia.org/wiki/Glossary_of_graph_theory_terms#edge"
   ]
  },
  {
   "cell_type": "markdown",
   "metadata": {
    "slideshow": {
     "slide_type": "subslide"
    }
   },
   "source": [
    "### Motivation"
   ]
  },
  {
   "cell_type": "markdown",
   "metadata": {
    "slideshow": {
     "slide_type": "fragment"
    }
   },
   "source": [
    "In developing the micro-simulation we also fortuitously generated a dataset that is at higher risk of re-identification then would be naively calculated based solely on the uniform probability assumptions used in the standard risk calculations. This arose from an effort to make the micro-simulation more realistic by organizing patients and clinical staff into clinics, representing the exclusive employment of the clinical staff at the clinic and the exclusive registration of the patient at the clinic. We further stipulated that patients can only visit the clinical staff of the clinic to which the patient is registered, and that every clinical staff must be registered as a patient at a clinic that is different from the one at which they are employed. In effect for risk calculations, this reduces the population size to that of the average size of a single clinic, because each clinic is a distinct and independent population of patients."
   ]
  },
  {
   "cell_type": "markdown",
   "metadata": {
    "slideshow": {
     "slide_type": "slide"
    }
   },
   "source": [
    "### Mathematical Model"
   ]
  },
  {
   "cell_type": "markdown",
   "metadata": {
    "slideshow": {
     "slide_type": "fragment"
    }
   },
   "source": [
    "Consider a fixed population, where any member can be a patient at any time. The population forms the [Vertexes][1] of the Graph.\n",
    "\n",
    "$$\n",
    "\\begin{align}\n",
    "V & = \\left\\lbrace \\text{person} : \\text{person} \\in \\text{population} \\right\\rbrace\n",
    "\\end{align}\n",
    "$$\n",
    "\n",
    "A subset of this population are also clinical staff.\n",
    "\n",
    "$$\n",
    "\\begin{align}\n",
    "V_\\text{staff} & = \\left\\lbrace \\text{person} : \\text{person} \\in V \\text{, person is clinical staff} \\right\\rbrace\\\\\n",
    "\\end{align}\n",
    "$$\n",
    "\n",
    "The patients visiting clinical staff on each day forms a set of edges parameterized by time.\n",
    "\n",
    "$$\n",
    "\\begin{align}\n",
    "E_\\text{day} & = \\left\\lbrace \\left( \\text{day}, \\text{patient}, \\text{staff} \\right) : \\text{patient} \\in V \\text{, staff} \\in V_\\text{staff} \\text{, patient visits staff on day} \\right\\rbrace\n",
    "\\end{align}\n",
    "$$\n",
    "\n",
    "[1]: https://en.wikipedia.org/wiki/Vertex_(graph_theory)"
   ]
  },
  {
   "cell_type": "markdown",
   "metadata": {
    "slideshow": {
     "slide_type": "subslide"
    }
   },
   "source": [
    "### Mathematical Model"
   ]
  },
  {
   "cell_type": "markdown",
   "metadata": {
    "slideshow": {
     "slide_type": "fragment"
    }
   },
   "source": [
    "The number of possible realizations of clinical visit event datasets, regardless of the assignments of clinics, or entailing sampling probabilities, is fixed.\n",
    "\n",
    "$$\n",
    "\\begin{align}\n",
    "N & = \\left( \\sum_{d = 0}^{\\#\\text{days}} \\binom{\\#\\text{days}}{d} \\left( \\#V_\\text{staff} \\right)^d \\right)^{\\#V - \\#V_\\text{staff}} \\times \\left( \\sum_{d = 0}^{\\#\\text{days}} \\binom{\\#\\text{days}}{d} \\left( \\#V_\\text{staff} - 1\\right)^d \\right)^{\\#V_\\text{staff}}\\\\\n",
    "& = \\left( \\#V_\\text{staff} + 1 \\right)^{\\#\\text{days} \\cdot \\left( \\#V - \\#V_\\text{staff} \\right)} \\times \\left( \\#V_\\text{staff} \\right)^{\\#\\text{days} \\cdot \\#V_\\text{staff}}\n",
    "\\end{align}\n",
    "$$\n",
    "\n",
    "The left hand term in the product is the number of combinations of visits among patients who are not clinical staff. Conversely, the right hand term in the product is the number of combinations of visits among patients who are clinical staff"
   ]
  },
  {
   "cell_type": "markdown",
   "metadata": {
    "slideshow": {
     "slide_type": "subslide"
    }
   },
   "source": [
    "### Mathematical Model"
   ]
  },
  {
   "cell_type": "markdown",
   "metadata": {
    "slideshow": {
     "slide_type": "fragment"
    }
   },
   "source": [
    "Even the most rudimentary assumption that there is an average number of expected visits in a time frame,\n",
    "\n",
    "$$\n",
    "\\begin{align}\n",
    "\\mathbb{P}\\left[\\text{visit} \\middle\\| \\text{patient} \\right] & = \\frac{\\text{expected visits}}{\\#\\text{days}}\n",
    "\\end{align}\n",
    "$$\n",
    "\n",
    "will cause the dataset of all clinical visit events to be non-uniformly sampled from the all possible realizations of datasets.\n",
    "\n",
    "$$\n",
    "\\begin{align}\n",
    "\\mathbb{P}\\left[E\\right] & = \\left( \\prod_{v \\notin V_\\text{staff}} \\left( \\frac{1}{\\#V_\\text{staff}} \\right)^{d_v} \\left( \\frac{\\text{expected visits}}{\\#\\text{days}} \\right)^{d_v} \\left( 1 - \\frac{\\text{expected visits}}{\\#\\text{days}} \\right)^{\\#\\text{days} - d_v} \\right)\\\\\n",
    "& \\qquad \\times \\left( \\prod_{v \\in V_\\text{staff}} \\left( \\frac{1}{\\#V_\\text{staff} - 1} \\right)^{d_v} \\left( \\frac{\\text{expected visits}}{\\#\\text{days}} \\right)^{d_v} \\left( 1 - \\frac{\\text{expected visits}}{\\#\\text{days}} \\right)^{\\#\\text{days} - d_v} \\right)\n",
    "\\end{align}\n",
    "$$"
   ]
  },
  {
   "cell_type": "markdown",
   "metadata": {
    "slideshow": {
     "slide_type": "subslide"
    }
   },
   "source": [
    "### Mathematical Model"
   ]
  },
  {
   "cell_type": "markdown",
   "metadata": {
    "slideshow": {
     "slide_type": "fragment"
    }
   },
   "source": [
    "This construction naively assumes that any patient can visit any clinician on any given day, provided no patient has two visits, Edges, on the same day. Without altering the assumption of an average number of expected visits in a time frame, we can alter the probability of a patient visiting a particular clinical staff, from the uniform probability.\n",
    "\n",
    "$$\n",
    "\\begin{align}\n",
    "\\mathbb{P} \\left[ \\text{staff} \\middle\\| \\text{day, patient} \\notin V_\\text{staff} \\right] & = \\frac{1}{\\#V_\\text{staff}}\\\\\n",
    "\\mathbb{P} \\left[ \\text{staff} \\middle\\| \\text{day, patient} \\in V_\\text{staff} \\right] & = \\frac{1}{\\#V_\\text{staff} - 1}\n",
    "\\end{align}\n",
    "$$\n",
    "\n",
    "We accomplish this by organizing patients and clinical staff into clinics, and staff into shifts."
   ]
  },
  {
   "cell_type": "markdown",
   "metadata": {
    "slideshow": {
     "slide_type": "subslide"
    }
   },
   "source": [
    "### Mathematical Model"
   ]
  },
  {
   "cell_type": "markdown",
   "metadata": {
    "slideshow": {
     "slide_type": "fragment"
    }
   },
   "source": [
    "The clinics and shift schedules are assigned randomly following a set of rules.\n",
    "\n",
    "  1. Every person, including clinical staff, is assigned to be a patient at exactly one clinic.\n",
    "  2. Additionally, every clinical staff is also assigned to be employed at exactly one clinic.\n",
    "  3. For every staff, there clinic of employment must be different from there clinic of care.\n",
    "  4. Each clinic must employ at least one clinical staff.\n",
    "  5. On any day the number of staff scheduled to work must be proportional to expected number of daily visits\n",
    "\n",
    "These rules constrain both the number of possible clinical staff a patient can visit, and the number of clinical staff seeing patients on any day, thus the decrease the denominator in the probability."
   ]
  },
  {
   "cell_type": "markdown",
   "metadata": {
    "slideshow": {
     "slide_type": "slide"
    }
   },
   "source": [
    "### Simulation"
   ]
  },
  {
   "cell_type": "markdown",
   "metadata": {
    "slideshow": {
     "slide_type": "fragment"
    }
   },
   "source": [
    "The engine of the simulation has been wrapped in a module called `MicroSimulation`, which can be found on GitHub [here][1].\n",
    "\n",
    "[1]: https://github.com/aaronsheldon/tableau-examples/blob/master/MicroSimulation.jl"
   ]
  },
  {
   "cell_type": "code",
   "execution_count": 1,
   "metadata": {
    "ExecuteTime": {
     "end_time": "2017-08-03T15:06:22.553000-06:00",
     "start_time": "2017-08-03T21:06:21.734Z"
    },
    "slideshow": {
     "slide_type": "fragment"
    }
   },
   "outputs": [
    {
     "data": {
      "text/plain": [
       "MicroSimulation"
      ]
     },
     "execution_count": 1,
     "metadata": {},
     "output_type": "execute_result"
    }
   ],
   "source": [
    "include(\"MicroSimulation.jl\")"
   ]
  },
  {
   "cell_type": "markdown",
   "metadata": {
    "slideshow": {
     "slide_type": "slide"
    }
   },
   "source": [
    "### Simulation"
   ]
  },
  {
   "cell_type": "markdown",
   "metadata": {
    "slideshow": {
     "slide_type": "fragment"
    }
   },
   "source": [
    "Before running the stochastic event simulation a population must be created, randomly assigning clinics to patients and staff. We do this using the `Registration` constructor."
   ]
  },
  {
   "cell_type": "markdown",
   "metadata": {
    "slideshow": {
     "slide_type": "subslide"
    }
   },
   "source": [
    "### Simulation"
   ]
  },
  {
   "cell_type": "code",
   "execution_count": 2,
   "metadata": {
    "ExecuteTime": {
     "end_time": "2017-08-03T15:06:29.690000-06:00",
     "start_time": "2017-08-03T21:06:29.382Z"
    },
    "slideshow": {
     "slide_type": "fragment"
    }
   },
   "outputs": [
    {
     "data": {
      "text/markdown": [
       "```\n",
       "Registrations(personcount, staffcount, cliniccount)\n",
       "```\n",
       "\n",
       "A list of persons generated by incrementally assigning a person identifier, randomly assigning a clinic identifier from `1:cliniccount` to the first `staffcount` persons, and randomly assigning a second clinic identifier to every person. The clinic a staff is employed at will never be the same as the clinic at which the staff is a patient.\n",
       "\n",
       "# Fields\n",
       "\n",
       "  * `personidentifiers`: identifiers of the people.\n",
       "  * `staffclinics`: identifiers of the clinic the person provides care.\n",
       "  * `patientclinics`: identifiers of the clinic at which the person is a patient.\n",
       "  * `personcount`: number of people.\n",
       "  * `staffcount`: number of clinical staff.\n",
       "  * `cliniccount`: number of clinics employing staff, and caring for patients.\n",
       "\n",
       "# Example\n",
       "\n",
       "```\n",
       "julia> rs = MicroSimulation.Registrations(10, 4, 2)\n",
       "MicroSimulation.Registrations([1, 2, 3, 4, 5, 6, 7, 8, 9, 10], [1, 1, 1, 2, 0, 0, 0, 0, 0, 0], [2, 2, 2, 1, 2, 2, 1, 1, 1, 1], 10, 4, 2)\n",
       "```\n"
      ],
      "text/plain": [
       "```\n",
       "Registrations(personcount, staffcount, cliniccount)\n",
       "```\n",
       "\n",
       "A list of persons generated by incrementally assigning a person identifier, randomly assigning a clinic identifier from `1:cliniccount` to the first `staffcount` persons, and randomly assigning a second clinic identifier to every person. The clinic a staff is employed at will never be the same as the clinic at which the staff is a patient.\n",
       "\n",
       "# Fields\n",
       "\n",
       "  * `personidentifiers`: identifiers of the people.\n",
       "  * `staffclinics`: identifiers of the clinic the person provides care.\n",
       "  * `patientclinics`: identifiers of the clinic at which the person is a patient.\n",
       "  * `personcount`: number of people.\n",
       "  * `staffcount`: number of clinical staff.\n",
       "  * `cliniccount`: number of clinics employing staff, and caring for patients.\n",
       "\n",
       "# Example\n",
       "\n",
       "```\n",
       "julia> rs = MicroSimulation.Registrations(10, 4, 2)\n",
       "MicroSimulation.Registrations([1, 2, 3, 4, 5, 6, 7, 8, 9, 10], [1, 1, 1, 2, 0, 0, 0, 0, 0, 0], [2, 2, 2, 1, 2, 2, 1, 1, 1, 1], 10, 4, 2)\n",
       "```\n"
      ]
     },
     "execution_count": 2,
     "metadata": {},
     "output_type": "execute_result"
    }
   ],
   "source": [
    "?MicroSimulation.Registrations"
   ]
  },
  {
   "cell_type": "markdown",
   "metadata": {
    "slideshow": {
     "slide_type": "slide"
    }
   },
   "source": [
    "### Simulation"
   ]
  },
  {
   "cell_type": "markdown",
   "metadata": {
    "slideshow": {
     "slide_type": "fragment"
    }
   },
   "source": [
    "This simulation consists of $4100000$ patients, of which $13000$ are also clinical staff, distributed across $2700$ clinics. This is based off of a rough aggregation of the fiscal 2016/17 visits statistics.\n",
    "\n",
    "| Statistic     | Value      |\n",
    "|---------------|------------|\n",
    "| Population    | $4067175$  |\n",
    "| Patients      | $3578579$  |\n",
    "| Providers     | $12486$    |\n",
    "| Clinics       | $2687$     |\n",
    "| Patient Days  | $24438296$ |\n",
    "| Provider Days | $1423060$  |\n",
    "| Visits        | $26360227$ |"
   ]
  },
  {
   "cell_type": "code",
   "execution_count": 3,
   "metadata": {
    "ExecuteTime": {
     "end_time": "2017-08-03T15:06:38.419000-06:00",
     "start_time": "2017-08-03T21:06:37.508Z"
    },
    "slideshow": {
     "slide_type": "fragment"
    }
   },
   "outputs": [
    {
     "data": {
      "text/plain": [
       "MicroSimulation.Registrations([1, 2, 3, 4, 5, 6, 7, 8, 9, 10  …  4099991, 4099992, 4099993, 4099994, 4099995, 4099996, 4099997, 4099998, 4099999, 4100000], [1, 1, 1, 2, 2, 3, 3, 3, 3, 4  …  0, 0, 0, 0, 0, 0, 0, 0, 0, 0], [154, 117, 2665, 1203, 288, 646, 1160, 94, 1412, 2372  …  255, 148, 1502, 779, 223, 174, 1352, 2034, 1732, 1457], 4100000, 13000, 2700)"
      ]
     },
     "execution_count": 3,
     "metadata": {},
     "output_type": "execute_result"
    }
   ],
   "source": [
    "rs = MicroSimulation.Registrations(4100000, 13000, 2700)"
   ]
  },
  {
   "cell_type": "markdown",
   "metadata": {
    "slideshow": {
     "slide_type": "slide"
    }
   },
   "source": [
    "### Simulation"
   ]
  },
  {
   "cell_type": "markdown",
   "metadata": {
    "slideshow": {
     "slide_type": "fragment"
    }
   },
   "source": [
    "Given the randomly generated assignments of clinics to patients and staff we can now stochastically generate visit events by sequentially sampling the conditional probabilities. This is done by calling the Events constructor."
   ]
  },
  {
   "cell_type": "markdown",
   "metadata": {
    "slideshow": {
     "slide_type": "subslide"
    }
   },
   "source": [
    "### Simulation"
   ]
  },
  {
   "cell_type": "code",
   "execution_count": 4,
   "metadata": {
    "ExecuteTime": {
     "end_time": "2017-08-03T15:06:45.420000-06:00",
     "start_time": "2017-08-03T21:06:45.440Z"
    },
    "slideshow": {
     "slide_type": "fragment"
    }
   },
   "outputs": [
    {
     "data": {
      "text/markdown": [
       "```\n",
       "Events(daterange, registrations, expectedvisits, expectedload)\n",
       "```\n",
       "\n",
       "A list of events stochastically generated by the microsimulation at the time of instantiation of the object. The process is parametertized by `expectedvisits`, the mean expected number of clinic visits a single person will have in the `daterange`, and by `expectedload` the expected number of patients a single clinician can attend to in a single day. These parameters are used to calculate the number of staff that are rostered on a single day.\n",
       "\n",
       "# Fields\n",
       "\n",
       "  * `days`: days of the patient visits.\n",
       "  * `patientidentifiers`: identifiers of the patients.\n",
       "  * `staffidentifiers`: identifiers of the staff caring for the patients.\n",
       "\n",
       "# Example\n",
       "\n",
       "```\n",
       "julia> es = MicroSimulation.Events(Date(2014, 01, 01):Date(2014, 12, 31), MicroSimulation.Registrations(400, 10, 2), 4, 28)\n",
       "MicroSimulation.Events(Date[2014-01-01, 2014-01-01, 2014-01-01, 2014-01-01, 2014-01-01, 2014-01-02, 2014-01-02, 2014-01-02, 2014-01-02, 2014-01-03  …  2014-12-29, 2014-12-30, 2014-12-30, 2014-12-30, 2014-12-30, 2014-12-31, 2014-12-31, 2014-12-31, 2014-12-31, 2014-12-31], [47, 78, 188, 267, 298, 286, 302, 387, 395, 13  …  365, 3, 56, 121, 232, 5, 35, 187, 224, 252], [5, 5, 6, 6, 5, 7, 7, 7, 7, 6  …  9, 7, 7, 7, 1, 6, 8, 6, 8, 6])\n",
       "```\n"
      ],
      "text/plain": [
       "```\n",
       "Events(daterange, registrations, expectedvisits, expectedload)\n",
       "```\n",
       "\n",
       "A list of events stochastically generated by the microsimulation at the time of instantiation of the object. The process is parametertized by `expectedvisits`, the mean expected number of clinic visits a single person will have in the `daterange`, and by `expectedload` the expected number of patients a single clinician can attend to in a single day. These parameters are used to calculate the number of staff that are rostered on a single day.\n",
       "\n",
       "# Fields\n",
       "\n",
       "  * `days`: days of the patient visits.\n",
       "  * `patientidentifiers`: identifiers of the patients.\n",
       "  * `staffidentifiers`: identifiers of the staff caring for the patients.\n",
       "\n",
       "# Example\n",
       "\n",
       "```\n",
       "julia> es = MicroSimulation.Events(Date(2014, 01, 01):Date(2014, 12, 31), MicroSimulation.Registrations(400, 10, 2), 4, 28)\n",
       "MicroSimulation.Events(Date[2014-01-01, 2014-01-01, 2014-01-01, 2014-01-01, 2014-01-01, 2014-01-02, 2014-01-02, 2014-01-02, 2014-01-02, 2014-01-03  …  2014-12-29, 2014-12-30, 2014-12-30, 2014-12-30, 2014-12-30, 2014-12-31, 2014-12-31, 2014-12-31, 2014-12-31, 2014-12-31], [47, 78, 188, 267, 298, 286, 302, 387, 395, 13  …  365, 3, 56, 121, 232, 5, 35, 187, 224, 252], [5, 5, 6, 6, 5, 7, 7, 7, 7, 6  …  9, 7, 7, 7, 1, 6, 8, 6, 8, 6])\n",
       "```\n"
      ]
     },
     "execution_count": 4,
     "metadata": {},
     "output_type": "execute_result"
    }
   ],
   "source": [
    "?MicroSimulation.Events"
   ]
  },
  {
   "cell_type": "markdown",
   "metadata": {
    "slideshow": {
     "slide_type": "slide"
    }
   },
   "source": [
    "### Simulation"
   ]
  },
  {
   "cell_type": "markdown",
   "metadata": {
    "slideshow": {
     "slide_type": "fragment"
    }
   },
   "source": [
    "We simulate a single year's events, where each person has $6$ visits on average, and each clinical staff can attend to $19$ patients in a single day on average. Together this defines the average number of staff that must be scheduled to work on any single day in any single clinic.\n",
    "\n",
    "$$\n",
    "\\begin{align}\n",
    "\\text{scheduled staff at clinic} & = \\frac{\\text{number of patients at clinic} \\times \\text{expected visits per patient}}{\\text{days simulated} \\times \\text{expected daily client load per staff}} \n",
    "\\end{align}\n",
    "$$"
   ]
  },
  {
   "cell_type": "code",
   "execution_count": 6,
   "metadata": {
    "ExecuteTime": {
     "end_time": "2017-08-03T15:14:57.075000-06:00",
     "start_time": "2017-08-03T21:14:49.260Z"
    },
    "slideshow": {
     "slide_type": "fragment"
    }
   },
   "outputs": [
    {
     "data": {
      "text/plain": [
       "MicroSimulation.Events(Date[2016-04-01, 2016-04-01, 2016-04-01, 2016-04-01, 2016-04-01, 2016-04-01, 2016-04-01, 2016-04-01, 2016-04-01, 2016-04-01  …  2017-03-31, 2017-03-31, 2017-03-31, 2017-03-31, 2017-03-31, 2017-03-31, 2017-03-31, 2017-03-31, 2017-03-31, 2017-03-31], [93, 108, 150, 182, 205, 259, 265, 316, 319, 493  …  4099438, 4099508, 4099554, 4099592, 4099649, 4099650, 4099675, 4099729, 4099763, 4099869], [446, 134, 2656, 2761, 3516, 72, 8843, 12187, 10953, 3814  …  371, 7477, 12411, 4224, 11316, 6242, 4010, 10537, 7040, 6267])"
      ]
     },
     "execution_count": 6,
     "metadata": {},
     "output_type": "execute_result"
    }
   ],
   "source": [
    "evs = MicroSimulation.Events(Date(2016, 4, 1):Date(2017, 3, 31), rs, 6, 19)"
   ]
  },
  {
   "cell_type": "markdown",
   "metadata": {
    "slideshow": {
     "slide_type": "slide"
    }
   },
   "source": [
    "### Simulation"
   ]
  },
  {
   "cell_type": "markdown",
   "metadata": {
    "slideshow": {
     "slide_type": "fragment"
    }
   },
   "source": [
    "We can then write the `Registrations` and the `Events` to `*.csv` files."
   ]
  },
  {
   "cell_type": "code",
   "execution_count": 14,
   "metadata": {
    "ExecuteTime": {
     "end_time": "2017-08-03T15:54:06.747000-06:00",
     "start_time": "2017-08-03T21:54:04.997Z"
    },
    "slideshow": {
     "slide_type": "fragment"
    }
   },
   "outputs": [],
   "source": [
    "f = open(\"registrations.csv\", \"w\")\n",
    "writecsv(f, [\"personidentifier\" \"patientclinic\" \"staffclinic\"])\n",
    "writecsv(f, [rs.personidentifiers rs.patientclinics rs.staffclinics])\n",
    "close(f)"
   ]
  },
  {
   "cell_type": "code",
   "execution_count": 16,
   "metadata": {
    "ExecuteTime": {
     "end_time": "2017-08-03T15:55:49.192000-06:00",
     "start_time": "2017-08-03T21:55:28.091Z"
    },
    "slideshow": {
     "slide_type": "fragment"
    }
   },
   "outputs": [],
   "source": [
    "f = open(\"events.csv\", \"w\")\n",
    "writecsv(f, [\"personidentifier\" \"patientidentifier\" \"staffidentifier\"])\n",
    "writecsv(f, [evs.days evs.patientidentifiers evs.staffidentifiers])\n",
    "close(f)"
   ]
  }
 ],
 "metadata": {
  "celltoolbar": "Slideshow",
  "kernelspec": {
   "display_name": "Julia 0.6.0",
   "language": "julia",
   "name": "julia-0.6"
  },
  "language_info": {
   "file_extension": ".jl",
   "mimetype": "application/julia",
   "name": "julia",
   "version": "0.6.0"
  }
 },
 "nbformat": 4,
 "nbformat_minor": 2
}
