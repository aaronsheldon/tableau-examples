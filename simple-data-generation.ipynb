{
 "cells": [
  {
   "cell_type": "markdown",
   "metadata": {
    "slideshow": {
     "slide_type": "slide"
    }
   },
   "source": [
    "# Simple Data Generation for Tableau"
   ]
  },
  {
   "cell_type": "markdown",
   "metadata": {
    "slideshow": {
     "slide_type": "fragment"
    }
   },
   "source": [
    "We will store the data in data frames to aid with exporting to \\*.csv files"
   ]
  },
  {
   "cell_type": "code",
   "execution_count": 66,
   "metadata": {
    "slideshow": {
     "slide_type": "fragment"
    }
   },
   "outputs": [],
   "source": [
    "using DataFrames\n",
    "using CSV"
   ]
  },
  {
   "cell_type": "markdown",
   "metadata": {
    "slideshow": {
     "slide_type": "slide"
    }
   },
   "source": [
    "## Density Estimation Data\n",
    "\n",
    "To illustrate linear smoothing denity estimation in Tableau we will generate $1024$ samples from a multimodal distribution composed of a mixture of binomial distributions on $\\left\\lbrace 0,\\dots,128 \\right\\rbrace$, centred at $\\left\\lbrace 16,32,64\\right\\rbrace$, with weights $\\left\\lbrace \\frac{2}{7},\\frac{4}{7},\\frac{1}{7} \\right\\rbrace$"
   ]
  },
  {
   "cell_type": "code",
   "execution_count": 67,
   "metadata": {
    "slideshow": {
     "slide_type": "fragment"
    }
   },
   "outputs": [
    {
     "data": {
      "text/html": [
       "<table class=\"data-frame\"><thead><tr><th></th><th>observation</th><th>probability</th><th>value</th></tr></thead><tbody><tr><th>1</th><td>1</td><td>0.25</td><td>31</td></tr><tr><th>2</th><td>2</td><td>0.125</td><td>12</td></tr><tr><th>3</th><td>3</td><td>0.125</td><td>21</td></tr><tr><th>4</th><td>4</td><td>0.25</td><td>30</td></tr><tr><th>5</th><td>5</td><td>0.25</td><td>32</td></tr><tr><th>6</th><td>6</td><td>0.125</td><td>13</td></tr><tr><th>7</th><td>7</td><td>0.25</td><td>28</td></tr><tr><th>8</th><td>8</td><td>0.5</td><td>72</td></tr><tr><th>9</th><td>9</td><td>0.25</td><td>31</td></tr><tr><th>10</th><td>10</td><td>0.125</td><td>20</td></tr><tr><th>11</th><td>11</td><td>0.125</td><td>19</td></tr><tr><th>12</th><td>12</td><td>0.5</td><td>62</td></tr><tr><th>13</th><td>13</td><td>0.25</td><td>32</td></tr><tr><th>14</th><td>14</td><td>0.25</td><td>32</td></tr><tr><th>15</th><td>15</td><td>0.25</td><td>29</td></tr><tr><th>16</th><td>16</td><td>0.25</td><td>32</td></tr><tr><th>17</th><td>17</td><td>0.25</td><td>30</td></tr><tr><th>18</th><td>18</td><td>0.125</td><td>17</td></tr><tr><th>19</th><td>19</td><td>0.25</td><td>35</td></tr><tr><th>20</th><td>20</td><td>0.125</td><td>18</td></tr><tr><th>21</th><td>21</td><td>0.25</td><td>33</td></tr><tr><th>22</th><td>22</td><td>0.125</td><td>16</td></tr><tr><th>23</th><td>23</td><td>0.25</td><td>31</td></tr><tr><th>24</th><td>24</td><td>0.125</td><td>14</td></tr><tr><th>25</th><td>25</td><td>0.125</td><td>22</td></tr><tr><th>26</th><td>26</td><td>0.5</td><td>69</td></tr><tr><th>27</th><td>27</td><td>0.25</td><td>38</td></tr><tr><th>28</th><td>28</td><td>0.25</td><td>25</td></tr><tr><th>29</th><td>29</td><td>0.25</td><td>33</td></tr><tr><th>30</th><td>30</td><td>0.25</td><td>39</td></tr><tr><th>&vellip;</th><td>&vellip;</td><td>&vellip;</td><td>&vellip;</td></tr></tbody></table>"
      ],
      "text/plain": [
       "1024×3 DataFrames.DataFrame\n",
       "│ Row  │ observation │ probability │ value │\n",
       "├──────┼─────────────┼─────────────┼───────┤\n",
       "│ 1    │ 1           │ 0.25        │ 31    │\n",
       "│ 2    │ 2           │ 0.125       │ 12    │\n",
       "│ 3    │ 3           │ 0.125       │ 21    │\n",
       "│ 4    │ 4           │ 0.25        │ 30    │\n",
       "│ 5    │ 5           │ 0.25        │ 32    │\n",
       "│ 6    │ 6           │ 0.125       │ 13    │\n",
       "│ 7    │ 7           │ 0.25        │ 28    │\n",
       "│ 8    │ 8           │ 0.5         │ 72    │\n",
       "│ 9    │ 9           │ 0.25        │ 31    │\n",
       "│ 10   │ 10          │ 0.125       │ 20    │\n",
       "│ 11   │ 11          │ 0.125       │ 19    │\n",
       "⋮\n",
       "│ 1013 │ 1013        │ 0.25        │ 35    │\n",
       "│ 1014 │ 1014        │ 0.5         │ 74    │\n",
       "│ 1015 │ 1015        │ 0.25        │ 32    │\n",
       "│ 1016 │ 1016        │ 0.25        │ 30    │\n",
       "│ 1017 │ 1017        │ 0.125       │ 15    │\n",
       "│ 1018 │ 1018        │ 0.125       │ 13    │\n",
       "│ 1019 │ 1019        │ 0.25        │ 24    │\n",
       "│ 1020 │ 1020        │ 0.5         │ 70    │\n",
       "│ 1021 │ 1021        │ 0.125       │ 15    │\n",
       "│ 1022 │ 1022        │ 0.25        │ 35    │\n",
       "│ 1023 │ 1023        │ 0.25        │ 40    │\n",
       "│ 1024 │ 1024        │ 0.25        │ 41    │"
      ]
     },
     "execution_count": 67,
     "metadata": {},
     "output_type": "execute_result"
    }
   ],
   "source": [
    "samples = rand(1024, 128);\n",
    "binomial = [64/128, 16/128, 16/128, 32/128, 32/128, 32/128, 32/128];\n",
    "latent = binomial[convert.(Int64, ceil.(7*rand(1024, 1)))][:, 1]\n",
    "density = DataFrame(\n",
    "  observation = collect(1:1024),\n",
    "  probability = latent,\n",
    "  value = sum(samples .<= latent, 2)[:, 1]\n",
    ")"
   ]
  },
  {
   "cell_type": "markdown",
   "metadata": {
    "slideshow": {
     "slide_type": "slide"
    }
   },
   "source": [
    "Store the data off in the current working directory."
   ]
  },
  {
   "cell_type": "code",
   "execution_count": 68,
   "metadata": {
    "slideshow": {
     "slide_type": "fragment"
    }
   },
   "outputs": [
    {
     "data": {
      "text/plain": [
       "CSV.Sink{Void,DataType}(    CSV.Options:\n",
       "        delim: ','\n",
       "        quotechar: '\"'\n",
       "        escapechar: '\\\\'\n",
       "        missingstring: \"\"\n",
       "        dateformat: nothing\n",
       "        decimal: '.'\n",
       "        truestring: 'true'\n",
       "        falsestring: 'false'\n",
       "        internstrings: true, IOBuffer(data=UInt8[...], readable=true, writable=true, seekable=true, append=false, size=0, maxsize=Inf, ptr=1, mark=-1), \"density.csv\", 30, true, String[\"observation\", \"probability\", \"value\"], 3, false, Val{false})"
      ]
     },
     "execution_count": 68,
     "metadata": {},
     "output_type": "execute_result"
    }
   ],
   "source": [
    "CSV.write(\"density.csv\", density)"
   ]
  },
  {
   "cell_type": "markdown",
   "metadata": {
    "slideshow": {
     "slide_type": "slide"
    }
   },
   "source": [
    "## Lead and Lag Data\n",
    "\n",
    "To illustrate lead and lag level of detail calculations we will generate $1024$ steps from an $8$ state cyclic Markov process."
   ]
  },
  {
   "cell_type": "markdown",
   "metadata": {
    "slideshow": {
     "slide_type": "slide"
    }
   },
   "source": [
    "## Time to First Event Data\n",
    "\n",
    "We initialize the data frame with 3 columns and 1024 samples\n",
    "\n",
    "1. The first column contains the subject `subject`, randomly selected from 64 identifiers.\n",
    "2. The second column contains the precursor to `time`, the cumulative sum of random increments from 1 to 8\n",
    "3. The third column contains the `event`, randomly selected from a central distribution on the letters A to E"
   ]
  },
  {
   "cell_type": "code",
   "execution_count": 14,
   "metadata": {},
   "outputs": [
    {
     "data": {
      "text/html": [
       "<table class=\"data-frame\"><thead><tr><th></th><th>subject</th><th>time</th><th>event</th></tr></thead><tbody><tr><th>1</th><td>1</td><td>5</td><td>C</td></tr><tr><th>2</th><td>1</td><td>7</td><td>B</td></tr><tr><th>3</th><td>1</td><td>15</td><td>D</td></tr><tr><th>4</th><td>1</td><td>20</td><td>B</td></tr><tr><th>5</th><td>1</td><td>24</td><td>C</td></tr><tr><th>6</th><td>1</td><td>32</td><td>C</td></tr><tr><th>7</th><td>1</td><td>40</td><td>C</td></tr><tr><th>8</th><td>1</td><td>45</td><td>C</td></tr></tbody></table>"
      ],
      "text/plain": [
       "8×3 DataFrames.DataFrame\n",
       "│ Row │ subject │ time │ event │\n",
       "├─────┼─────────┼──────┼───────┤\n",
       "│ 1   │ 1       │ 5    │ 'C'   │\n",
       "│ 2   │ 1       │ 7    │ 'B'   │\n",
       "│ 3   │ 1       │ 15   │ 'D'   │\n",
       "│ 4   │ 1       │ 20   │ 'B'   │\n",
       "│ 5   │ 1       │ 24   │ 'C'   │\n",
       "│ 6   │ 1       │ 32   │ 'C'   │\n",
       "│ 7   │ 1       │ 40   │ 'C'   │\n",
       "│ 8   │ 1       │ 45   │ 'C'   │"
      ]
     },
     "execution_count": 14,
     "metadata": {},
     "output_type": "execute_result"
    }
   ],
   "source": [
    "longitudinal = DataFrame(\n",
    "    subject = sort(rand(1:64, 1024)),\n",
    "    time = cumsum(rand(1:8, 1024)),\n",
    "    event = rand(['A', 'B', 'B', 'C', 'C', 'C', 'C', 'D', 'D', 'E'], 1024)\n",
    ");\n",
    "longitudinal[1:8, :]"
   ]
  },
  {
   "cell_type": "markdown",
   "metadata": {},
   "source": [
    "Notice that the time is increasing across all subjects. Instead we want to be the cumulative sum strictly within each subject. To accomplish this we use logical indexing to pull the last time from each subject and subtract it from the times of the next subject."
   ]
  },
  {
   "cell_type": "markdown",
   "metadata": {},
   "source": [
    "First find the logic index of the row before the subject changed."
   ]
  },
  {
   "cell_type": "code",
   "execution_count": 15,
   "metadata": {},
   "outputs": [
    {
     "data": {
      "text/html": [
       "<table class=\"data-frame\"><thead><tr><th></th><th>subject</th><th>time</th><th>event</th><th>before</th></tr></thead><tbody><tr><th>1</th><td>1</td><td>5</td><td>C</td><td>false</td></tr><tr><th>2</th><td>1</td><td>7</td><td>B</td><td>false</td></tr><tr><th>3</th><td>1</td><td>15</td><td>D</td><td>false</td></tr><tr><th>4</th><td>1</td><td>20</td><td>B</td><td>false</td></tr><tr><th>5</th><td>1</td><td>24</td><td>C</td><td>false</td></tr><tr><th>6</th><td>1</td><td>32</td><td>C</td><td>false</td></tr><tr><th>7</th><td>1</td><td>40</td><td>C</td><td>false</td></tr><tr><th>8</th><td>1</td><td>45</td><td>C</td><td>false</td></tr></tbody></table>"
      ],
      "text/plain": [
       "8×4 DataFrames.DataFrame\n",
       "│ Row │ subject │ time │ event │ before │\n",
       "├─────┼─────────┼──────┼───────┼────────┤\n",
       "│ 1   │ 1       │ 5    │ 'C'   │ false  │\n",
       "│ 2   │ 1       │ 7    │ 'B'   │ false  │\n",
       "│ 3   │ 1       │ 15   │ 'D'   │ false  │\n",
       "│ 4   │ 1       │ 20   │ 'B'   │ false  │\n",
       "│ 5   │ 1       │ 24   │ 'C'   │ false  │\n",
       "│ 6   │ 1       │ 32   │ 'C'   │ false  │\n",
       "│ 7   │ 1       │ 40   │ 'C'   │ false  │\n",
       "│ 8   │ 1       │ 45   │ 'C'   │ false  │"
      ]
     },
     "execution_count": 15,
     "metadata": {},
     "output_type": "execute_result"
    }
   ],
   "source": [
    "longitudinal[:before] = [longitudinal[:subject][1:end-1] .!= longitudinal[:subject][2:end];false];\n",
    "longitudinal[1:8, :]"
   ]
  },
  {
   "cell_type": "markdown",
   "metadata": {},
   "source": [
    "Similarly find the logical index of the row after the subject changed."
   ]
  },
  {
   "cell_type": "code",
   "execution_count": 16,
   "metadata": {},
   "outputs": [
    {
     "data": {
      "text/html": [
       "<table class=\"data-frame\"><thead><tr><th></th><th>subject</th><th>time</th><th>event</th><th>before</th><th>after</th></tr></thead><tbody><tr><th>1</th><td>1</td><td>5</td><td>C</td><td>false</td><td>false</td></tr><tr><th>2</th><td>1</td><td>7</td><td>B</td><td>false</td><td>false</td></tr><tr><th>3</th><td>1</td><td>15</td><td>D</td><td>false</td><td>false</td></tr><tr><th>4</th><td>1</td><td>20</td><td>B</td><td>false</td><td>false</td></tr><tr><th>5</th><td>1</td><td>24</td><td>C</td><td>false</td><td>false</td></tr><tr><th>6</th><td>1</td><td>32</td><td>C</td><td>false</td><td>false</td></tr><tr><th>7</th><td>1</td><td>40</td><td>C</td><td>false</td><td>false</td></tr><tr><th>8</th><td>1</td><td>45</td><td>C</td><td>false</td><td>false</td></tr></tbody></table>"
      ],
      "text/plain": [
       "8×5 DataFrames.DataFrame\n",
       "│ Row │ subject │ time │ event │ before │ after │\n",
       "├─────┼─────────┼──────┼───────┼────────┼───────┤\n",
       "│ 1   │ 1       │ 5    │ 'C'   │ false  │ false │\n",
       "│ 2   │ 1       │ 7    │ 'B'   │ false  │ false │\n",
       "│ 3   │ 1       │ 15   │ 'D'   │ false  │ false │\n",
       "│ 4   │ 1       │ 20   │ 'B'   │ false  │ false │\n",
       "│ 5   │ 1       │ 24   │ 'C'   │ false  │ false │\n",
       "│ 6   │ 1       │ 32   │ 'C'   │ false  │ false │\n",
       "│ 7   │ 1       │ 40   │ 'C'   │ false  │ false │\n",
       "│ 8   │ 1       │ 45   │ 'C'   │ false  │ false │"
      ]
     },
     "execution_count": 16,
     "metadata": {},
     "output_type": "execute_result"
    }
   ],
   "source": [
    "longitudinal[:after] = [false; longitudinal[:before][1:end-1]];\n",
    "longitudinal[1:8, :]"
   ]
  },
  {
   "cell_type": "markdown",
   "metadata": {},
   "source": [
    "Next initialize a column to contain the shift of baseline time for each subject."
   ]
  },
  {
   "cell_type": "code",
   "execution_count": 17,
   "metadata": {},
   "outputs": [
    {
     "data": {
      "text/html": [
       "<table class=\"data-frame\"><thead><tr><th></th><th>subject</th><th>time</th><th>event</th><th>before</th><th>after</th><th>shift</th></tr></thead><tbody><tr><th>1</th><td>1</td><td>5</td><td>C</td><td>false</td><td>false</td><td>0</td></tr><tr><th>2</th><td>1</td><td>7</td><td>B</td><td>false</td><td>false</td><td>0</td></tr><tr><th>3</th><td>1</td><td>15</td><td>D</td><td>false</td><td>false</td><td>0</td></tr><tr><th>4</th><td>1</td><td>20</td><td>B</td><td>false</td><td>false</td><td>0</td></tr><tr><th>5</th><td>1</td><td>24</td><td>C</td><td>false</td><td>false</td><td>0</td></tr><tr><th>6</th><td>1</td><td>32</td><td>C</td><td>false</td><td>false</td><td>0</td></tr><tr><th>7</th><td>1</td><td>40</td><td>C</td><td>false</td><td>false</td><td>0</td></tr><tr><th>8</th><td>1</td><td>45</td><td>C</td><td>false</td><td>false</td><td>0</td></tr></tbody></table>"
      ],
      "text/plain": [
       "8×6 DataFrames.DataFrame\n",
       "│ Row │ subject │ time │ event │ before │ after │ shift │\n",
       "├─────┼─────────┼──────┼───────┼────────┼───────┼───────┤\n",
       "│ 1   │ 1       │ 5    │ 'C'   │ false  │ false │ 0     │\n",
       "│ 2   │ 1       │ 7    │ 'B'   │ false  │ false │ 0     │\n",
       "│ 3   │ 1       │ 15   │ 'D'   │ false  │ false │ 0     │\n",
       "│ 4   │ 1       │ 20   │ 'B'   │ false  │ false │ 0     │\n",
       "│ 5   │ 1       │ 24   │ 'C'   │ false  │ false │ 0     │\n",
       "│ 6   │ 1       │ 32   │ 'C'   │ false  │ false │ 0     │\n",
       "│ 7   │ 1       │ 40   │ 'C'   │ false  │ false │ 0     │\n",
       "│ 8   │ 1       │ 45   │ 'C'   │ false  │ false │ 0     │"
      ]
     },
     "execution_count": 17,
     "metadata": {},
     "output_type": "execute_result"
    }
   ],
   "source": [
    "longitudinal[:shift] = zeros(Int, 1024);\n",
    "longitudinal[1:8, :]"
   ]
  },
  {
   "cell_type": "markdown",
   "metadata": {},
   "source": [
    "Into the baseline shift of each row following the change in subject place the difference between the successive start times of each subject."
   ]
  },
  {
   "cell_type": "code",
   "execution_count": 18,
   "metadata": {},
   "outputs": [
    {
     "data": {
      "text/html": [
       "<table class=\"data-frame\"><thead><tr><th></th><th>subject</th><th>time</th><th>event</th><th>before</th><th>after</th><th>shift</th></tr></thead><tbody><tr><th>1</th><td>1</td><td>5</td><td>C</td><td>false</td><td>false</td><td>0</td></tr><tr><th>2</th><td>1</td><td>7</td><td>B</td><td>false</td><td>false</td><td>0</td></tr><tr><th>3</th><td>1</td><td>15</td><td>D</td><td>false</td><td>false</td><td>0</td></tr><tr><th>4</th><td>1</td><td>20</td><td>B</td><td>false</td><td>false</td><td>0</td></tr><tr><th>5</th><td>1</td><td>24</td><td>C</td><td>false</td><td>false</td><td>0</td></tr><tr><th>6</th><td>1</td><td>32</td><td>C</td><td>false</td><td>false</td><td>0</td></tr><tr><th>7</th><td>1</td><td>40</td><td>C</td><td>false</td><td>false</td><td>0</td></tr><tr><th>8</th><td>1</td><td>45</td><td>C</td><td>false</td><td>false</td><td>0</td></tr></tbody></table>"
      ],
      "text/plain": [
       "8×6 DataFrames.DataFrame\n",
       "│ Row │ subject │ time │ event │ before │ after │ shift │\n",
       "├─────┼─────────┼──────┼───────┼────────┼───────┼───────┤\n",
       "│ 1   │ 1       │ 5    │ 'C'   │ false  │ false │ 0     │\n",
       "│ 2   │ 1       │ 7    │ 'B'   │ false  │ false │ 0     │\n",
       "│ 3   │ 1       │ 15   │ 'D'   │ false  │ false │ 0     │\n",
       "│ 4   │ 1       │ 20   │ 'B'   │ false  │ false │ 0     │\n",
       "│ 5   │ 1       │ 24   │ 'C'   │ false  │ false │ 0     │\n",
       "│ 6   │ 1       │ 32   │ 'C'   │ false  │ false │ 0     │\n",
       "│ 7   │ 1       │ 40   │ 'C'   │ false  │ false │ 0     │\n",
       "│ 8   │ 1       │ 45   │ 'C'   │ false  │ false │ 0     │"
      ]
     },
     "execution_count": 18,
     "metadata": {},
     "output_type": "execute_result"
    }
   ],
   "source": [
    "longitudinal[:shift][longitudinal[:after]] = \n",
    "    longitudinal[:time][longitudinal[:before]] - \n",
    "    [0; longitudinal[:time][longitudinal[:before]][1:end-1]];\n",
    "longitudinal[1:8, :]"
   ]
  },
  {
   "cell_type": "markdown",
   "metadata": {},
   "source": [
    "Fill in the zeroes by running a cummulative sum over the shift column."
   ]
  },
  {
   "cell_type": "code",
   "execution_count": 19,
   "metadata": {},
   "outputs": [
    {
     "data": {
      "text/html": [
       "<table class=\"data-frame\"><thead><tr><th></th><th>subject</th><th>time</th><th>event</th><th>before</th><th>after</th><th>shift</th></tr></thead><tbody><tr><th>1</th><td>1</td><td>5</td><td>C</td><td>false</td><td>false</td><td>0</td></tr><tr><th>2</th><td>1</td><td>7</td><td>B</td><td>false</td><td>false</td><td>0</td></tr><tr><th>3</th><td>1</td><td>15</td><td>D</td><td>false</td><td>false</td><td>0</td></tr><tr><th>4</th><td>1</td><td>20</td><td>B</td><td>false</td><td>false</td><td>0</td></tr><tr><th>5</th><td>1</td><td>24</td><td>C</td><td>false</td><td>false</td><td>0</td></tr><tr><th>6</th><td>1</td><td>32</td><td>C</td><td>false</td><td>false</td><td>0</td></tr><tr><th>7</th><td>1</td><td>40</td><td>C</td><td>false</td><td>false</td><td>0</td></tr><tr><th>8</th><td>1</td><td>45</td><td>C</td><td>false</td><td>false</td><td>0</td></tr></tbody></table>"
      ],
      "text/plain": [
       "8×6 DataFrames.DataFrame\n",
       "│ Row │ subject │ time │ event │ before │ after │ shift │\n",
       "├─────┼─────────┼──────┼───────┼────────┼───────┼───────┤\n",
       "│ 1   │ 1       │ 5    │ 'C'   │ false  │ false │ 0     │\n",
       "│ 2   │ 1       │ 7    │ 'B'   │ false  │ false │ 0     │\n",
       "│ 3   │ 1       │ 15   │ 'D'   │ false  │ false │ 0     │\n",
       "│ 4   │ 1       │ 20   │ 'B'   │ false  │ false │ 0     │\n",
       "│ 5   │ 1       │ 24   │ 'C'   │ false  │ false │ 0     │\n",
       "│ 6   │ 1       │ 32   │ 'C'   │ false  │ false │ 0     │\n",
       "│ 7   │ 1       │ 40   │ 'C'   │ false  │ false │ 0     │\n",
       "│ 8   │ 1       │ 45   │ 'C'   │ false  │ false │ 0     │"
      ]
     },
     "execution_count": 19,
     "metadata": {},
     "output_type": "execute_result"
    }
   ],
   "source": [
    "longitudinal[:shift] = cumsum(longitudinal[:shift]);\n",
    "longitudinal[1:8, :]"
   ]
  },
  {
   "cell_type": "markdown",
   "metadata": {},
   "source": [
    "Rectify the time for each subject by subtracting the baseline shift."
   ]
  },
  {
   "cell_type": "code",
   "execution_count": 20,
   "metadata": {},
   "outputs": [
    {
     "data": {
      "text/html": [
       "<table class=\"data-frame\"><thead><tr><th></th><th>subject</th><th>time</th><th>event</th><th>before</th><th>after</th><th>shift</th></tr></thead><tbody><tr><th>1</th><td>1</td><td>5</td><td>C</td><td>false</td><td>false</td><td>0</td></tr><tr><th>2</th><td>1</td><td>7</td><td>B</td><td>false</td><td>false</td><td>0</td></tr><tr><th>3</th><td>1</td><td>15</td><td>D</td><td>false</td><td>false</td><td>0</td></tr><tr><th>4</th><td>1</td><td>20</td><td>B</td><td>false</td><td>false</td><td>0</td></tr><tr><th>5</th><td>1</td><td>24</td><td>C</td><td>false</td><td>false</td><td>0</td></tr><tr><th>6</th><td>1</td><td>32</td><td>C</td><td>false</td><td>false</td><td>0</td></tr><tr><th>7</th><td>1</td><td>40</td><td>C</td><td>false</td><td>false</td><td>0</td></tr><tr><th>8</th><td>1</td><td>45</td><td>C</td><td>false</td><td>false</td><td>0</td></tr></tbody></table>"
      ],
      "text/plain": [
       "8×6 DataFrames.DataFrame\n",
       "│ Row │ subject │ time │ event │ before │ after │ shift │\n",
       "├─────┼─────────┼──────┼───────┼────────┼───────┼───────┤\n",
       "│ 1   │ 1       │ 5    │ 'C'   │ false  │ false │ 0     │\n",
       "│ 2   │ 1       │ 7    │ 'B'   │ false  │ false │ 0     │\n",
       "│ 3   │ 1       │ 15   │ 'D'   │ false  │ false │ 0     │\n",
       "│ 4   │ 1       │ 20   │ 'B'   │ false  │ false │ 0     │\n",
       "│ 5   │ 1       │ 24   │ 'C'   │ false  │ false │ 0     │\n",
       "│ 6   │ 1       │ 32   │ 'C'   │ false  │ false │ 0     │\n",
       "│ 7   │ 1       │ 40   │ 'C'   │ false  │ false │ 0     │\n",
       "│ 8   │ 1       │ 45   │ 'C'   │ false  │ false │ 0     │"
      ]
     },
     "execution_count": 20,
     "metadata": {},
     "output_type": "execute_result"
    }
   ],
   "source": [
    "longitudinal[:time] = longitudinal[:time] - longitudinal[:shift];\n",
    "longitudinal[1:8, :]"
   ]
  },
  {
   "cell_type": "markdown",
   "metadata": {},
   "source": [
    "We can now export the data, choosing the first 3 columns."
   ]
  },
  {
   "cell_type": "code",
   "execution_count": 21,
   "metadata": {},
   "outputs": [],
   "source": [
    "writetable(\"longitudinal.csv\", longitudinal[[:subject, :time, :event]])"
   ]
  },
  {
   "cell_type": "markdown",
   "metadata": {},
   "source": [
    "## Contingency Data\n",
    "\n",
    "The goal is to generate four columns of dimensional classifiers, as two pairs of dependent dimensions. We start by initializing the two distributions to sample:"
   ]
  },
  {
   "cell_type": "code",
   "execution_count": 52,
   "metadata": {},
   "outputs": [],
   "source": [
    "distributionone = [\n",
    "    [\"A\" -1],\n",
    "    [\"A\" -1],\n",
    "    [\"A\" -1],\n",
    "    [\"A\" 0],\n",
    "    [\"A\" 0],\n",
    "    [\"A\" 1],\n",
    "    [\"B\" -1],\n",
    "    [\"B\" 0],\n",
    "    [\"B\" 0],\n",
    "    [\"B\" 1],\n",
    "    [\"B\" 1],\n",
    "    [\"B\" 1]\n",
    "];\n",
    "distributiontwo = [\n",
    "    [\"C\" -2],\n",
    "    [\"C\" -1],\n",
    "    [\"C\" -1],\n",
    "    [\"C\" 0],\n",
    "    [\"C\" 0],\n",
    "    [\"C\" 0],\n",
    "    [\"C\" 1],\n",
    "    [\"C\" 1],\n",
    "    [\"C\" 1],\n",
    "    [\"C\" 1],\n",
    "    [\"C\" 2],\n",
    "    [\"C\" 2],\n",
    "    [\"C\" 2],\n",
    "    [\"C\" 2],\n",
    "    [\"C\" 2],\n",
    "    [\"D\" -2],\n",
    "    [\"D\" -1],\n",
    "    [\"D\" -1],\n",
    "    [\"D\" 0],\n",
    "    [\"D\" 0],\n",
    "    [\"D\" 0],\n",
    "    [\"D\" 1],\n",
    "    [\"D\" 1],\n",
    "    [\"D\" 2],\n",
    "    [\"E\" -2],\n",
    "    [\"E\" -2],\n",
    "    [\"E\" -2],\n",
    "    [\"E\" -1],\n",
    "    [\"E\" -1],\n",
    "    [\"E\" 0],\n",
    "    [\"E\" 1],\n",
    "    [\"E\" 1],\n",
    "    [\"E\" 2],\n",
    "    [\"E\" 2],\n",
    "    [\"E\" 2],\n",
    "    [\"F\" 2],\n",
    "    [\"F\" 1],\n",
    "    [\"F\" 1],\n",
    "    [\"F\" 0],\n",
    "    [\"F\" 0],\n",
    "    [\"F\" 0],\n",
    "    [\"F\" -1],\n",
    "    [\"F\" -1],\n",
    "    [\"F\" -1],\n",
    "    [\"F\" -1],\n",
    "    [\"F\" -2],\n",
    "    [\"F\" -2],\n",
    "    [\"F\" -2],\n",
    "    [\"F\" -2],\n",
    "    [\"F\" -2]\n",
    "];"
   ]
  },
  {
   "cell_type": "markdown",
   "metadata": {},
   "source": [
    "We then generate another 1024 samples to populate a data frame."
   ]
  },
  {
   "cell_type": "code",
   "execution_count": 53,
   "metadata": {},
   "outputs": [
    {
     "data": {
      "text/html": [
       "<table class=\"data-frame\"><thead><tr><th></th><th>sample</th><th>preonetwo</th><th>prethreefour</th></tr></thead><tbody><tr><th>1</th><td>1</td><td>Any[\"B\" 0]</td><td>Any[\"C\" 0]</td></tr><tr><th>2</th><td>2</td><td>Any[\"B\" 0]</td><td>Any[\"C\" 0]</td></tr><tr><th>3</th><td>3</td><td>Any[\"B\" 1]</td><td>Any[\"C\" -1]</td></tr><tr><th>4</th><td>4</td><td>Any[\"B\" -1]</td><td>Any[\"D\" -1]</td></tr><tr><th>5</th><td>5</td><td>Any[\"B\" 1]</td><td>Any[\"F\" 0]</td></tr><tr><th>6</th><td>6</td><td>Any[\"B\" 0]</td><td>Any[\"F\" -2]</td></tr><tr><th>7</th><td>7</td><td>Any[\"B\" 1]</td><td>Any[\"C\" -1]</td></tr><tr><th>8</th><td>8</td><td>Any[\"B\" -1]</td><td>Any[\"C\" 1]</td></tr></tbody></table>"
      ],
      "text/plain": [
       "8×3 DataFrames.DataFrame\n",
       "│ Row │ sample │ preonetwo   │ prethreefour │\n",
       "├─────┼────────┼─────────────┼──────────────┤\n",
       "│ 1   │ 1      │ Any[\"B\" 0]  │ Any[\"C\" 0]   │\n",
       "│ 2   │ 2      │ Any[\"B\" 0]  │ Any[\"C\" 0]   │\n",
       "│ 3   │ 3      │ Any[\"B\" 1]  │ Any[\"C\" -1]  │\n",
       "│ 4   │ 4      │ Any[\"B\" -1] │ Any[\"D\" -1]  │\n",
       "│ 5   │ 5      │ Any[\"B\" 1]  │ Any[\"F\" 0]   │\n",
       "│ 6   │ 6      │ Any[\"B\" 0]  │ Any[\"F\" -2]  │\n",
       "│ 7   │ 7      │ Any[\"B\" 1]  │ Any[\"C\" -1]  │\n",
       "│ 8   │ 8      │ Any[\"B\" -1] │ Any[\"C\" 1]   │"
      ]
     },
     "execution_count": 53,
     "metadata": {},
     "output_type": "execute_result"
    }
   ],
   "source": [
    "contingency = DataFrame(\n",
    "    sample = 1:1024,\n",
    "    preonetwo = rand(distributionone, 1024),\n",
    "    prethreefour = rand(distributiontwo, 1024)\n",
    ");\n",
    "contingency[1:8, :]"
   ]
  },
  {
   "cell_type": "markdown",
   "metadata": {},
   "source": [
    "Next we extract the individual column elements into dimension columns."
   ]
  },
  {
   "cell_type": "code",
   "execution_count": 54,
   "metadata": {},
   "outputs": [
    {
     "data": {
      "text/html": [
       "<table class=\"data-frame\"><thead><tr><th></th><th>sample</th><th>preonetwo</th><th>prethreefour</th><th>dimensionone</th><th>dimensiontwo</th><th>dimensionthree</th><th>dimensionfour</th></tr></thead><tbody><tr><th>1</th><td>1</td><td>Any[\"B\" 0]</td><td>Any[\"C\" 0]</td><td>B</td><td>0</td><td>C</td><td>0</td></tr><tr><th>2</th><td>2</td><td>Any[\"B\" 0]</td><td>Any[\"C\" 0]</td><td>B</td><td>0</td><td>C</td><td>0</td></tr><tr><th>3</th><td>3</td><td>Any[\"B\" 1]</td><td>Any[\"C\" -1]</td><td>B</td><td>1</td><td>C</td><td>-1</td></tr><tr><th>4</th><td>4</td><td>Any[\"B\" -1]</td><td>Any[\"D\" -1]</td><td>B</td><td>-1</td><td>D</td><td>-1</td></tr><tr><th>5</th><td>5</td><td>Any[\"B\" 1]</td><td>Any[\"F\" 0]</td><td>B</td><td>1</td><td>F</td><td>0</td></tr><tr><th>6</th><td>6</td><td>Any[\"B\" 0]</td><td>Any[\"F\" -2]</td><td>B</td><td>0</td><td>F</td><td>-2</td></tr><tr><th>7</th><td>7</td><td>Any[\"B\" 1]</td><td>Any[\"C\" -1]</td><td>B</td><td>1</td><td>C</td><td>-1</td></tr><tr><th>8</th><td>8</td><td>Any[\"B\" -1]</td><td>Any[\"C\" 1]</td><td>B</td><td>-1</td><td>C</td><td>1</td></tr></tbody></table>"
      ],
      "text/plain": [
       "8×7 DataFrames.DataFrame\n",
       "│ Row │ sample │ preonetwo   │ prethreefour │ dimensionone │ dimensiontwo │\n",
       "├─────┼────────┼─────────────┼──────────────┼──────────────┼──────────────┤\n",
       "│ 1   │ 1      │ Any[\"B\" 0]  │ Any[\"C\" 0]   │ \"B\"          │ 0            │\n",
       "│ 2   │ 2      │ Any[\"B\" 0]  │ Any[\"C\" 0]   │ \"B\"          │ 0            │\n",
       "│ 3   │ 3      │ Any[\"B\" 1]  │ Any[\"C\" -1]  │ \"B\"          │ 1            │\n",
       "│ 4   │ 4      │ Any[\"B\" -1] │ Any[\"D\" -1]  │ \"B\"          │ -1           │\n",
       "│ 5   │ 5      │ Any[\"B\" 1]  │ Any[\"F\" 0]   │ \"B\"          │ 1            │\n",
       "│ 6   │ 6      │ Any[\"B\" 0]  │ Any[\"F\" -2]  │ \"B\"          │ 0            │\n",
       "│ 7   │ 7      │ Any[\"B\" 1]  │ Any[\"C\" -1]  │ \"B\"          │ 1            │\n",
       "│ 8   │ 8      │ Any[\"B\" -1] │ Any[\"C\" 1]   │ \"B\"          │ -1           │\n",
       "\n",
       "│ Row │ dimensionthree │ dimensionfour │\n",
       "├─────┼────────────────┼───────────────┤\n",
       "│ 1   │ \"C\"            │ 0             │\n",
       "│ 2   │ \"C\"            │ 0             │\n",
       "│ 3   │ \"C\"            │ -1            │\n",
       "│ 4   │ \"D\"            │ -1            │\n",
       "│ 5   │ \"F\"            │ 0             │\n",
       "│ 6   │ \"F\"            │ -2            │\n",
       "│ 7   │ \"C\"            │ -1            │\n",
       "│ 8   │ \"C\"            │ 1             │"
      ]
     },
     "execution_count": 54,
     "metadata": {},
     "output_type": "execute_result"
    }
   ],
   "source": [
    "contingency[:dimensionone] = vcat(contingency[:, :preonetwo]...)[:, 1];\n",
    "contingency[:dimensiontwo] = vcat(contingency[:, :preonetwo]...)[:, 2];\n",
    "contingency[:dimensionthree] = vcat(contingency[:, :prethreefour]...)[:, 1];\n",
    "contingency[:dimensionfour] = vcat(contingency[:, :prethreefour]...)[:, 2];\n",
    "contingency[1:8, :]"
   ]
  },
  {
   "cell_type": "markdown",
   "metadata": {},
   "source": [
    "Finally we export our contingency table data."
   ]
  },
  {
   "cell_type": "code",
   "execution_count": 55,
   "metadata": {
    "collapsed": true
   },
   "outputs": [],
   "source": [
    "writetable(\"contingency.csv\", contingency[[:sample, :dimensionone, :dimensiontwo, :dimensionthree, :dimensionfour]])"
   ]
  }
 ],
 "metadata": {
  "celltoolbar": "Slideshow",
  "kernelspec": {
   "display_name": "Julia 0.6.3",
   "language": "julia",
   "name": "julia-0.6"
  },
  "language_info": {
   "file_extension": ".jl",
   "mimetype": "application/julia",
   "name": "julia",
   "version": "0.6.3"
  }
 },
 "nbformat": 4,
 "nbformat_minor": 2
}
