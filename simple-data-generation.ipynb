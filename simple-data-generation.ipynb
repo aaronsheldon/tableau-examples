{
 "cells": [
  {
   "cell_type": "markdown",
   "metadata": {
    "deletable": true,
    "editable": true
   },
   "source": [
    "# Simple Data Generation for Tableau"
   ]
  },
  {
   "cell_type": "markdown",
   "metadata": {
    "deletable": true,
    "editable": true
   },
   "source": [
    "We will store the data in data frames to aid with exporting to \\*.csv files"
   ]
  },
  {
   "cell_type": "code",
   "execution_count": 3,
   "metadata": {
    "collapsed": false,
    "deletable": true,
    "editable": true
   },
   "outputs": [],
   "source": [
    "using DataFrames"
   ]
  },
  {
   "cell_type": "markdown",
   "metadata": {
    "deletable": true,
    "editable": true
   },
   "source": [
    "## Time to First Event Data\n",
    "\n",
    "We initialize the data frame with 3 columns and 1024 samples\n",
    "\n",
    "1. The first column contains the subject `subject`, randomly selected from 64 identifiers.\n",
    "2. The second column contains the precursor to `time`, the cumulative sum of random increments from 1 to 8\n",
    "3. The third column contains the `event`, randomly selected from a central distribution on the letters A to E"
   ]
  },
  {
   "cell_type": "code",
   "execution_count": 14,
   "metadata": {
    "collapsed": false,
    "deletable": true,
    "editable": true
   },
   "outputs": [
    {
     "data": {
      "text/html": [
       "<table class=\"data-frame\"><thead><tr><th></th><th>subject</th><th>time</th><th>event</th></tr></thead><tbody><tr><th>1</th><td>1</td><td>5</td><td>C</td></tr><tr><th>2</th><td>1</td><td>7</td><td>B</td></tr><tr><th>3</th><td>1</td><td>15</td><td>D</td></tr><tr><th>4</th><td>1</td><td>20</td><td>B</td></tr><tr><th>5</th><td>1</td><td>24</td><td>C</td></tr><tr><th>6</th><td>1</td><td>32</td><td>C</td></tr><tr><th>7</th><td>1</td><td>40</td><td>C</td></tr><tr><th>8</th><td>1</td><td>45</td><td>C</td></tr></tbody></table>"
      ],
      "text/plain": [
       "8×3 DataFrames.DataFrame\n",
       "│ Row │ subject │ time │ event │\n",
       "├─────┼─────────┼──────┼───────┤\n",
       "│ 1   │ 1       │ 5    │ 'C'   │\n",
       "│ 2   │ 1       │ 7    │ 'B'   │\n",
       "│ 3   │ 1       │ 15   │ 'D'   │\n",
       "│ 4   │ 1       │ 20   │ 'B'   │\n",
       "│ 5   │ 1       │ 24   │ 'C'   │\n",
       "│ 6   │ 1       │ 32   │ 'C'   │\n",
       "│ 7   │ 1       │ 40   │ 'C'   │\n",
       "│ 8   │ 1       │ 45   │ 'C'   │"
      ]
     },
     "execution_count": 14,
     "metadata": {},
     "output_type": "execute_result"
    }
   ],
   "source": [
    "longitudinal = DataFrame(\n",
    "    subject = sort(rand(1:64, 1024)),\n",
    "    time = cumsum(rand(1:8, 1024)),\n",
    "    event = rand(['A', 'B', 'B', 'C', 'C', 'C', 'C', 'D', 'D', 'E'], 1024)\n",
    ");\n",
    "longitudinal[1:8, :]"
   ]
  },
  {
   "cell_type": "markdown",
   "metadata": {
    "deletable": true,
    "editable": true
   },
   "source": [
    "Notice that the time is increasing across all subjects. Instead we want to be the cumulative sum strictly within each subject. To accomplish this we use logical indexing to pull the last time from each subject and subtract it from the times of the next subject."
   ]
  },
  {
   "cell_type": "markdown",
   "metadata": {
    "deletable": true,
    "editable": true
   },
   "source": [
    "First find the logic index of the row before the subject changed."
   ]
  },
  {
   "cell_type": "code",
   "execution_count": 15,
   "metadata": {
    "collapsed": false,
    "deletable": true,
    "editable": true
   },
   "outputs": [
    {
     "data": {
      "text/html": [
       "<table class=\"data-frame\"><thead><tr><th></th><th>subject</th><th>time</th><th>event</th><th>before</th></tr></thead><tbody><tr><th>1</th><td>1</td><td>5</td><td>C</td><td>false</td></tr><tr><th>2</th><td>1</td><td>7</td><td>B</td><td>false</td></tr><tr><th>3</th><td>1</td><td>15</td><td>D</td><td>false</td></tr><tr><th>4</th><td>1</td><td>20</td><td>B</td><td>false</td></tr><tr><th>5</th><td>1</td><td>24</td><td>C</td><td>false</td></tr><tr><th>6</th><td>1</td><td>32</td><td>C</td><td>false</td></tr><tr><th>7</th><td>1</td><td>40</td><td>C</td><td>false</td></tr><tr><th>8</th><td>1</td><td>45</td><td>C</td><td>false</td></tr></tbody></table>"
      ],
      "text/plain": [
       "8×4 DataFrames.DataFrame\n",
       "│ Row │ subject │ time │ event │ before │\n",
       "├─────┼─────────┼──────┼───────┼────────┤\n",
       "│ 1   │ 1       │ 5    │ 'C'   │ false  │\n",
       "│ 2   │ 1       │ 7    │ 'B'   │ false  │\n",
       "│ 3   │ 1       │ 15   │ 'D'   │ false  │\n",
       "│ 4   │ 1       │ 20   │ 'B'   │ false  │\n",
       "│ 5   │ 1       │ 24   │ 'C'   │ false  │\n",
       "│ 6   │ 1       │ 32   │ 'C'   │ false  │\n",
       "│ 7   │ 1       │ 40   │ 'C'   │ false  │\n",
       "│ 8   │ 1       │ 45   │ 'C'   │ false  │"
      ]
     },
     "execution_count": 15,
     "metadata": {},
     "output_type": "execute_result"
    }
   ],
   "source": [
    "longitudinal[:before] = [longitudinal[:subject][1:end-1] .!= longitudinal[:subject][2:end];false];\n",
    "longitudinal[1:8, :]"
   ]
  },
  {
   "cell_type": "markdown",
   "metadata": {
    "deletable": true,
    "editable": true
   },
   "source": [
    "Similarly find the logical index of the row after the subject changed."
   ]
  },
  {
   "cell_type": "code",
   "execution_count": 16,
   "metadata": {
    "collapsed": false,
    "deletable": true,
    "editable": true
   },
   "outputs": [
    {
     "data": {
      "text/html": [
       "<table class=\"data-frame\"><thead><tr><th></th><th>subject</th><th>time</th><th>event</th><th>before</th><th>after</th></tr></thead><tbody><tr><th>1</th><td>1</td><td>5</td><td>C</td><td>false</td><td>false</td></tr><tr><th>2</th><td>1</td><td>7</td><td>B</td><td>false</td><td>false</td></tr><tr><th>3</th><td>1</td><td>15</td><td>D</td><td>false</td><td>false</td></tr><tr><th>4</th><td>1</td><td>20</td><td>B</td><td>false</td><td>false</td></tr><tr><th>5</th><td>1</td><td>24</td><td>C</td><td>false</td><td>false</td></tr><tr><th>6</th><td>1</td><td>32</td><td>C</td><td>false</td><td>false</td></tr><tr><th>7</th><td>1</td><td>40</td><td>C</td><td>false</td><td>false</td></tr><tr><th>8</th><td>1</td><td>45</td><td>C</td><td>false</td><td>false</td></tr></tbody></table>"
      ],
      "text/plain": [
       "8×5 DataFrames.DataFrame\n",
       "│ Row │ subject │ time │ event │ before │ after │\n",
       "├─────┼─────────┼──────┼───────┼────────┼───────┤\n",
       "│ 1   │ 1       │ 5    │ 'C'   │ false  │ false │\n",
       "│ 2   │ 1       │ 7    │ 'B'   │ false  │ false │\n",
       "│ 3   │ 1       │ 15   │ 'D'   │ false  │ false │\n",
       "│ 4   │ 1       │ 20   │ 'B'   │ false  │ false │\n",
       "│ 5   │ 1       │ 24   │ 'C'   │ false  │ false │\n",
       "│ 6   │ 1       │ 32   │ 'C'   │ false  │ false │\n",
       "│ 7   │ 1       │ 40   │ 'C'   │ false  │ false │\n",
       "│ 8   │ 1       │ 45   │ 'C'   │ false  │ false │"
      ]
     },
     "execution_count": 16,
     "metadata": {},
     "output_type": "execute_result"
    }
   ],
   "source": [
    "longitudinal[:after] = [false; longitudinal[:before][1:end-1]];\n",
    "longitudinal[1:8, :]"
   ]
  },
  {
   "cell_type": "markdown",
   "metadata": {
    "deletable": true,
    "editable": true
   },
   "source": [
    "Next initialize a column to contain the shift of baseline time for each subject."
   ]
  },
  {
   "cell_type": "code",
   "execution_count": 17,
   "metadata": {
    "collapsed": false,
    "deletable": true,
    "editable": true
   },
   "outputs": [
    {
     "data": {
      "text/html": [
       "<table class=\"data-frame\"><thead><tr><th></th><th>subject</th><th>time</th><th>event</th><th>before</th><th>after</th><th>shift</th></tr></thead><tbody><tr><th>1</th><td>1</td><td>5</td><td>C</td><td>false</td><td>false</td><td>0</td></tr><tr><th>2</th><td>1</td><td>7</td><td>B</td><td>false</td><td>false</td><td>0</td></tr><tr><th>3</th><td>1</td><td>15</td><td>D</td><td>false</td><td>false</td><td>0</td></tr><tr><th>4</th><td>1</td><td>20</td><td>B</td><td>false</td><td>false</td><td>0</td></tr><tr><th>5</th><td>1</td><td>24</td><td>C</td><td>false</td><td>false</td><td>0</td></tr><tr><th>6</th><td>1</td><td>32</td><td>C</td><td>false</td><td>false</td><td>0</td></tr><tr><th>7</th><td>1</td><td>40</td><td>C</td><td>false</td><td>false</td><td>0</td></tr><tr><th>8</th><td>1</td><td>45</td><td>C</td><td>false</td><td>false</td><td>0</td></tr></tbody></table>"
      ],
      "text/plain": [
       "8×6 DataFrames.DataFrame\n",
       "│ Row │ subject │ time │ event │ before │ after │ shift │\n",
       "├─────┼─────────┼──────┼───────┼────────┼───────┼───────┤\n",
       "│ 1   │ 1       │ 5    │ 'C'   │ false  │ false │ 0     │\n",
       "│ 2   │ 1       │ 7    │ 'B'   │ false  │ false │ 0     │\n",
       "│ 3   │ 1       │ 15   │ 'D'   │ false  │ false │ 0     │\n",
       "│ 4   │ 1       │ 20   │ 'B'   │ false  │ false │ 0     │\n",
       "│ 5   │ 1       │ 24   │ 'C'   │ false  │ false │ 0     │\n",
       "│ 6   │ 1       │ 32   │ 'C'   │ false  │ false │ 0     │\n",
       "│ 7   │ 1       │ 40   │ 'C'   │ false  │ false │ 0     │\n",
       "│ 8   │ 1       │ 45   │ 'C'   │ false  │ false │ 0     │"
      ]
     },
     "execution_count": 17,
     "metadata": {},
     "output_type": "execute_result"
    }
   ],
   "source": [
    "longitudinal[:shift] = zeros(Int, 1024);\n",
    "longitudinal[1:8, :]"
   ]
  },
  {
   "cell_type": "markdown",
   "metadata": {
    "deletable": true,
    "editable": true
   },
   "source": [
    "Into the baseline shift of each row following the change in subject place the difference between the successive start times of each subject."
   ]
  },
  {
   "cell_type": "code",
   "execution_count": 18,
   "metadata": {
    "collapsed": false,
    "deletable": true,
    "editable": true
   },
   "outputs": [
    {
     "data": {
      "text/html": [
       "<table class=\"data-frame\"><thead><tr><th></th><th>subject</th><th>time</th><th>event</th><th>before</th><th>after</th><th>shift</th></tr></thead><tbody><tr><th>1</th><td>1</td><td>5</td><td>C</td><td>false</td><td>false</td><td>0</td></tr><tr><th>2</th><td>1</td><td>7</td><td>B</td><td>false</td><td>false</td><td>0</td></tr><tr><th>3</th><td>1</td><td>15</td><td>D</td><td>false</td><td>false</td><td>0</td></tr><tr><th>4</th><td>1</td><td>20</td><td>B</td><td>false</td><td>false</td><td>0</td></tr><tr><th>5</th><td>1</td><td>24</td><td>C</td><td>false</td><td>false</td><td>0</td></tr><tr><th>6</th><td>1</td><td>32</td><td>C</td><td>false</td><td>false</td><td>0</td></tr><tr><th>7</th><td>1</td><td>40</td><td>C</td><td>false</td><td>false</td><td>0</td></tr><tr><th>8</th><td>1</td><td>45</td><td>C</td><td>false</td><td>false</td><td>0</td></tr></tbody></table>"
      ],
      "text/plain": [
       "8×6 DataFrames.DataFrame\n",
       "│ Row │ subject │ time │ event │ before │ after │ shift │\n",
       "├─────┼─────────┼──────┼───────┼────────┼───────┼───────┤\n",
       "│ 1   │ 1       │ 5    │ 'C'   │ false  │ false │ 0     │\n",
       "│ 2   │ 1       │ 7    │ 'B'   │ false  │ false │ 0     │\n",
       "│ 3   │ 1       │ 15   │ 'D'   │ false  │ false │ 0     │\n",
       "│ 4   │ 1       │ 20   │ 'B'   │ false  │ false │ 0     │\n",
       "│ 5   │ 1       │ 24   │ 'C'   │ false  │ false │ 0     │\n",
       "│ 6   │ 1       │ 32   │ 'C'   │ false  │ false │ 0     │\n",
       "│ 7   │ 1       │ 40   │ 'C'   │ false  │ false │ 0     │\n",
       "│ 8   │ 1       │ 45   │ 'C'   │ false  │ false │ 0     │"
      ]
     },
     "execution_count": 18,
     "metadata": {},
     "output_type": "execute_result"
    }
   ],
   "source": [
    "longitudinal[:shift][longitudinal[:after]] = \n",
    "    longitudinal[:time][longitudinal[:before]] - \n",
    "    [0; longitudinal[:time][longitudinal[:before]][1:end-1]];\n",
    "longitudinal[1:8, :]"
   ]
  },
  {
   "cell_type": "markdown",
   "metadata": {
    "deletable": true,
    "editable": true
   },
   "source": [
    "Fill in the zeroes by running a cummulative sum over the shift column."
   ]
  },
  {
   "cell_type": "code",
   "execution_count": 19,
   "metadata": {
    "collapsed": false,
    "deletable": true,
    "editable": true
   },
   "outputs": [
    {
     "data": {
      "text/html": [
       "<table class=\"data-frame\"><thead><tr><th></th><th>subject</th><th>time</th><th>event</th><th>before</th><th>after</th><th>shift</th></tr></thead><tbody><tr><th>1</th><td>1</td><td>5</td><td>C</td><td>false</td><td>false</td><td>0</td></tr><tr><th>2</th><td>1</td><td>7</td><td>B</td><td>false</td><td>false</td><td>0</td></tr><tr><th>3</th><td>1</td><td>15</td><td>D</td><td>false</td><td>false</td><td>0</td></tr><tr><th>4</th><td>1</td><td>20</td><td>B</td><td>false</td><td>false</td><td>0</td></tr><tr><th>5</th><td>1</td><td>24</td><td>C</td><td>false</td><td>false</td><td>0</td></tr><tr><th>6</th><td>1</td><td>32</td><td>C</td><td>false</td><td>false</td><td>0</td></tr><tr><th>7</th><td>1</td><td>40</td><td>C</td><td>false</td><td>false</td><td>0</td></tr><tr><th>8</th><td>1</td><td>45</td><td>C</td><td>false</td><td>false</td><td>0</td></tr></tbody></table>"
      ],
      "text/plain": [
       "8×6 DataFrames.DataFrame\n",
       "│ Row │ subject │ time │ event │ before │ after │ shift │\n",
       "├─────┼─────────┼──────┼───────┼────────┼───────┼───────┤\n",
       "│ 1   │ 1       │ 5    │ 'C'   │ false  │ false │ 0     │\n",
       "│ 2   │ 1       │ 7    │ 'B'   │ false  │ false │ 0     │\n",
       "│ 3   │ 1       │ 15   │ 'D'   │ false  │ false │ 0     │\n",
       "│ 4   │ 1       │ 20   │ 'B'   │ false  │ false │ 0     │\n",
       "│ 5   │ 1       │ 24   │ 'C'   │ false  │ false │ 0     │\n",
       "│ 6   │ 1       │ 32   │ 'C'   │ false  │ false │ 0     │\n",
       "│ 7   │ 1       │ 40   │ 'C'   │ false  │ false │ 0     │\n",
       "│ 8   │ 1       │ 45   │ 'C'   │ false  │ false │ 0     │"
      ]
     },
     "execution_count": 19,
     "metadata": {},
     "output_type": "execute_result"
    }
   ],
   "source": [
    "longitudinal[:shift] = cumsum(longitudinal[:shift]);\n",
    "longitudinal[1:8, :]"
   ]
  },
  {
   "cell_type": "markdown",
   "metadata": {
    "deletable": true,
    "editable": true
   },
   "source": [
    "Rectify the time for each subject by subtracting the baseline shift."
   ]
  },
  {
   "cell_type": "code",
   "execution_count": 20,
   "metadata": {
    "collapsed": false,
    "deletable": true,
    "editable": true
   },
   "outputs": [
    {
     "data": {
      "text/html": [
       "<table class=\"data-frame\"><thead><tr><th></th><th>subject</th><th>time</th><th>event</th><th>before</th><th>after</th><th>shift</th></tr></thead><tbody><tr><th>1</th><td>1</td><td>5</td><td>C</td><td>false</td><td>false</td><td>0</td></tr><tr><th>2</th><td>1</td><td>7</td><td>B</td><td>false</td><td>false</td><td>0</td></tr><tr><th>3</th><td>1</td><td>15</td><td>D</td><td>false</td><td>false</td><td>0</td></tr><tr><th>4</th><td>1</td><td>20</td><td>B</td><td>false</td><td>false</td><td>0</td></tr><tr><th>5</th><td>1</td><td>24</td><td>C</td><td>false</td><td>false</td><td>0</td></tr><tr><th>6</th><td>1</td><td>32</td><td>C</td><td>false</td><td>false</td><td>0</td></tr><tr><th>7</th><td>1</td><td>40</td><td>C</td><td>false</td><td>false</td><td>0</td></tr><tr><th>8</th><td>1</td><td>45</td><td>C</td><td>false</td><td>false</td><td>0</td></tr></tbody></table>"
      ],
      "text/plain": [
       "8×6 DataFrames.DataFrame\n",
       "│ Row │ subject │ time │ event │ before │ after │ shift │\n",
       "├─────┼─────────┼──────┼───────┼────────┼───────┼───────┤\n",
       "│ 1   │ 1       │ 5    │ 'C'   │ false  │ false │ 0     │\n",
       "│ 2   │ 1       │ 7    │ 'B'   │ false  │ false │ 0     │\n",
       "│ 3   │ 1       │ 15   │ 'D'   │ false  │ false │ 0     │\n",
       "│ 4   │ 1       │ 20   │ 'B'   │ false  │ false │ 0     │\n",
       "│ 5   │ 1       │ 24   │ 'C'   │ false  │ false │ 0     │\n",
       "│ 6   │ 1       │ 32   │ 'C'   │ false  │ false │ 0     │\n",
       "│ 7   │ 1       │ 40   │ 'C'   │ false  │ false │ 0     │\n",
       "│ 8   │ 1       │ 45   │ 'C'   │ false  │ false │ 0     │"
      ]
     },
     "execution_count": 20,
     "metadata": {},
     "output_type": "execute_result"
    }
   ],
   "source": [
    "longitudinal[:time] = longitudinal[:time] - longitudinal[:shift];\n",
    "longitudinal[1:8, :]"
   ]
  },
  {
   "cell_type": "markdown",
   "metadata": {
    "deletable": true,
    "editable": true
   },
   "source": [
    "We can now export the data, choosing the first 3 columns."
   ]
  },
  {
   "cell_type": "code",
   "execution_count": 21,
   "metadata": {
    "collapsed": false,
    "deletable": true,
    "editable": true
   },
   "outputs": [],
   "source": [
    "writetable(\"longitudinal.csv\", longitudinal[[:subject, :time, :event]])"
   ]
  },
  {
   "cell_type": "markdown",
   "metadata": {},
   "source": [
    "## Contingency Data\n",
    "\n",
    "The goal is to generate four columns of dimensional classifiers, as two pairs of dependent dimensions. We start by initializing the two distributions to sample:"
   ]
  },
  {
   "cell_type": "code",
   "execution_count": 52,
   "metadata": {
    "collapsed": false
   },
   "outputs": [],
   "source": [
    "distributionone = [\n",
    "    [\"A\" -1],\n",
    "    [\"A\" -1],\n",
    "    [\"A\" -1],\n",
    "    [\"A\" 0],\n",
    "    [\"A\" 0],\n",
    "    [\"A\" 1],\n",
    "    [\"B\" -1],\n",
    "    [\"B\" 0],\n",
    "    [\"B\" 0],\n",
    "    [\"B\" 1],\n",
    "    [\"B\" 1],\n",
    "    [\"B\" 1]\n",
    "];\n",
    "distributiontwo = [\n",
    "    [\"C\" -2],\n",
    "    [\"C\" -1],\n",
    "    [\"C\" -1],\n",
    "    [\"C\" 0],\n",
    "    [\"C\" 0],\n",
    "    [\"C\" 0],\n",
    "    [\"C\" 1],\n",
    "    [\"C\" 1],\n",
    "    [\"C\" 1],\n",
    "    [\"C\" 1],\n",
    "    [\"C\" 2],\n",
    "    [\"C\" 2],\n",
    "    [\"C\" 2],\n",
    "    [\"C\" 2],\n",
    "    [\"C\" 2],\n",
    "    [\"D\" -2],\n",
    "    [\"D\" -1],\n",
    "    [\"D\" -1],\n",
    "    [\"D\" 0],\n",
    "    [\"D\" 0],\n",
    "    [\"D\" 0],\n",
    "    [\"D\" 1],\n",
    "    [\"D\" 1],\n",
    "    [\"D\" 2],\n",
    "    [\"E\" -2],\n",
    "    [\"E\" -2],\n",
    "    [\"E\" -2],\n",
    "    [\"E\" -1],\n",
    "    [\"E\" -1],\n",
    "    [\"E\" 0],\n",
    "    [\"E\" 1],\n",
    "    [\"E\" 1],\n",
    "    [\"E\" 2],\n",
    "    [\"E\" 2],\n",
    "    [\"E\" 2],\n",
    "    [\"F\" 2],\n",
    "    [\"F\" 1],\n",
    "    [\"F\" 1],\n",
    "    [\"F\" 0],\n",
    "    [\"F\" 0],\n",
    "    [\"F\" 0],\n",
    "    [\"F\" -1],\n",
    "    [\"F\" -1],\n",
    "    [\"F\" -1],\n",
    "    [\"F\" -1],\n",
    "    [\"F\" -2],\n",
    "    [\"F\" -2],\n",
    "    [\"F\" -2],\n",
    "    [\"F\" -2],\n",
    "    [\"F\" -2]\n",
    "];"
   ]
  },
  {
   "cell_type": "markdown",
   "metadata": {},
   "source": [
    "We then generate another 1024 samples to populate a data frame."
   ]
  },
  {
   "cell_type": "code",
   "execution_count": 53,
   "metadata": {
    "collapsed": false
   },
   "outputs": [
    {
     "data": {
      "text/html": [
       "<table class=\"data-frame\"><thead><tr><th></th><th>sample</th><th>preonetwo</th><th>prethreefour</th></tr></thead><tbody><tr><th>1</th><td>1</td><td>Any[\"B\" 0]</td><td>Any[\"C\" 0]</td></tr><tr><th>2</th><td>2</td><td>Any[\"B\" 0]</td><td>Any[\"C\" 0]</td></tr><tr><th>3</th><td>3</td><td>Any[\"B\" 1]</td><td>Any[\"C\" -1]</td></tr><tr><th>4</th><td>4</td><td>Any[\"B\" -1]</td><td>Any[\"D\" -1]</td></tr><tr><th>5</th><td>5</td><td>Any[\"B\" 1]</td><td>Any[\"F\" 0]</td></tr><tr><th>6</th><td>6</td><td>Any[\"B\" 0]</td><td>Any[\"F\" -2]</td></tr><tr><th>7</th><td>7</td><td>Any[\"B\" 1]</td><td>Any[\"C\" -1]</td></tr><tr><th>8</th><td>8</td><td>Any[\"B\" -1]</td><td>Any[\"C\" 1]</td></tr></tbody></table>"
      ],
      "text/plain": [
       "8×3 DataFrames.DataFrame\n",
       "│ Row │ sample │ preonetwo   │ prethreefour │\n",
       "├─────┼────────┼─────────────┼──────────────┤\n",
       "│ 1   │ 1      │ Any[\"B\" 0]  │ Any[\"C\" 0]   │\n",
       "│ 2   │ 2      │ Any[\"B\" 0]  │ Any[\"C\" 0]   │\n",
       "│ 3   │ 3      │ Any[\"B\" 1]  │ Any[\"C\" -1]  │\n",
       "│ 4   │ 4      │ Any[\"B\" -1] │ Any[\"D\" -1]  │\n",
       "│ 5   │ 5      │ Any[\"B\" 1]  │ Any[\"F\" 0]   │\n",
       "│ 6   │ 6      │ Any[\"B\" 0]  │ Any[\"F\" -2]  │\n",
       "│ 7   │ 7      │ Any[\"B\" 1]  │ Any[\"C\" -1]  │\n",
       "│ 8   │ 8      │ Any[\"B\" -1] │ Any[\"C\" 1]   │"
      ]
     },
     "execution_count": 53,
     "metadata": {},
     "output_type": "execute_result"
    }
   ],
   "source": [
    "contingency = DataFrame(\n",
    "    sample = 1:1024,\n",
    "    preonetwo = rand(distributionone, 1024),\n",
    "    prethreefour = rand(distributiontwo, 1024)\n",
    ");\n",
    "contingency[1:8, :]"
   ]
  },
  {
   "cell_type": "markdown",
   "metadata": {},
   "source": [
    "Next we extract the individual column elements into dimension columns."
   ]
  },
  {
   "cell_type": "code",
   "execution_count": 54,
   "metadata": {
    "collapsed": false
   },
   "outputs": [
    {
     "data": {
      "text/html": [
       "<table class=\"data-frame\"><thead><tr><th></th><th>sample</th><th>preonetwo</th><th>prethreefour</th><th>dimensionone</th><th>dimensiontwo</th><th>dimensionthree</th><th>dimensionfour</th></tr></thead><tbody><tr><th>1</th><td>1</td><td>Any[\"B\" 0]</td><td>Any[\"C\" 0]</td><td>B</td><td>0</td><td>C</td><td>0</td></tr><tr><th>2</th><td>2</td><td>Any[\"B\" 0]</td><td>Any[\"C\" 0]</td><td>B</td><td>0</td><td>C</td><td>0</td></tr><tr><th>3</th><td>3</td><td>Any[\"B\" 1]</td><td>Any[\"C\" -1]</td><td>B</td><td>1</td><td>C</td><td>-1</td></tr><tr><th>4</th><td>4</td><td>Any[\"B\" -1]</td><td>Any[\"D\" -1]</td><td>B</td><td>-1</td><td>D</td><td>-1</td></tr><tr><th>5</th><td>5</td><td>Any[\"B\" 1]</td><td>Any[\"F\" 0]</td><td>B</td><td>1</td><td>F</td><td>0</td></tr><tr><th>6</th><td>6</td><td>Any[\"B\" 0]</td><td>Any[\"F\" -2]</td><td>B</td><td>0</td><td>F</td><td>-2</td></tr><tr><th>7</th><td>7</td><td>Any[\"B\" 1]</td><td>Any[\"C\" -1]</td><td>B</td><td>1</td><td>C</td><td>-1</td></tr><tr><th>8</th><td>8</td><td>Any[\"B\" -1]</td><td>Any[\"C\" 1]</td><td>B</td><td>-1</td><td>C</td><td>1</td></tr></tbody></table>"
      ],
      "text/plain": [
       "8×7 DataFrames.DataFrame\n",
       "│ Row │ sample │ preonetwo   │ prethreefour │ dimensionone │ dimensiontwo │\n",
       "├─────┼────────┼─────────────┼──────────────┼──────────────┼──────────────┤\n",
       "│ 1   │ 1      │ Any[\"B\" 0]  │ Any[\"C\" 0]   │ \"B\"          │ 0            │\n",
       "│ 2   │ 2      │ Any[\"B\" 0]  │ Any[\"C\" 0]   │ \"B\"          │ 0            │\n",
       "│ 3   │ 3      │ Any[\"B\" 1]  │ Any[\"C\" -1]  │ \"B\"          │ 1            │\n",
       "│ 4   │ 4      │ Any[\"B\" -1] │ Any[\"D\" -1]  │ \"B\"          │ -1           │\n",
       "│ 5   │ 5      │ Any[\"B\" 1]  │ Any[\"F\" 0]   │ \"B\"          │ 1            │\n",
       "│ 6   │ 6      │ Any[\"B\" 0]  │ Any[\"F\" -2]  │ \"B\"          │ 0            │\n",
       "│ 7   │ 7      │ Any[\"B\" 1]  │ Any[\"C\" -1]  │ \"B\"          │ 1            │\n",
       "│ 8   │ 8      │ Any[\"B\" -1] │ Any[\"C\" 1]   │ \"B\"          │ -1           │\n",
       "\n",
       "│ Row │ dimensionthree │ dimensionfour │\n",
       "├─────┼────────────────┼───────────────┤\n",
       "│ 1   │ \"C\"            │ 0             │\n",
       "│ 2   │ \"C\"            │ 0             │\n",
       "│ 3   │ \"C\"            │ -1            │\n",
       "│ 4   │ \"D\"            │ -1            │\n",
       "│ 5   │ \"F\"            │ 0             │\n",
       "│ 6   │ \"F\"            │ -2            │\n",
       "│ 7   │ \"C\"            │ -1            │\n",
       "│ 8   │ \"C\"            │ 1             │"
      ]
     },
     "execution_count": 54,
     "metadata": {},
     "output_type": "execute_result"
    }
   ],
   "source": [
    "contingency[:dimensionone] = vcat(contingency[:, :preonetwo]...)[:, 1];\n",
    "contingency[:dimensiontwo] = vcat(contingency[:, :preonetwo]...)[:, 2];\n",
    "contingency[:dimensionthree] = vcat(contingency[:, :prethreefour]...)[:, 1];\n",
    "contingency[:dimensionfour] = vcat(contingency[:, :prethreefour]...)[:, 2];\n",
    "contingency[1:8, :]"
   ]
  },
  {
   "cell_type": "markdown",
   "metadata": {},
   "source": [
    "Finally we export our contingency table data."
   ]
  },
  {
   "cell_type": "code",
   "execution_count": 55,
   "metadata": {
    "collapsed": true
   },
   "outputs": [],
   "source": [
    "writetable(\"contingency.csv\", contingency[[:sample, :dimensionone, :dimensiontwo, :dimensionthree, :dimensionfour]])"
   ]
  }
 ],
 "metadata": {
  "kernelspec": {
   "display_name": "Julia 0.5.0",
   "language": "julia",
   "name": "julia-0.5"
  },
  "language_info": {
   "file_extension": ".jl",
   "mimetype": "application/julia",
   "name": "julia",
   "version": "0.5.0"
  }
 },
 "nbformat": 4,
 "nbformat_minor": 2
}
