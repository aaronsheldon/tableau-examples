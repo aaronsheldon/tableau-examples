{
 "cells": [
  {
   "cell_type": "markdown",
   "metadata": {},
   "source": [
    "# Simple Data Generation for Tableau"
   ]
  },
  {
   "cell_type": "markdown",
   "metadata": {},
   "source": [
    "We will store the data in a data frame to aid with exporting to a \\*.csv file"
   ]
  },
  {
   "cell_type": "code",
   "execution_count": 1,
   "metadata": {
    "collapsed": true
   },
   "outputs": [],
   "source": [
    "using DataFrames"
   ]
  },
  {
   "cell_type": "markdown",
   "metadata": {},
   "source": [
    "We initialize the data frame with 3 columns and 1024 samples\n",
    "\n",
    "1. The first column contains the subject `subject`, randomly selected from 64 identifiers.\n",
    "2. The second column contains the precursor to `time`, the cumulative sum of random increments from 1 to 8\n",
    "3. The third column contains the `event`, randomly selected from a central distribution on the letters A to E"
   ]
  },
  {
   "cell_type": "code",
   "execution_count": 25,
   "metadata": {
    "collapsed": false
   },
   "outputs": [
    {
     "data": {
      "text/html": [
       "<table class=\"data-frame\"><thead><tr><th></th><th>subject</th><th>time</th><th>event</th></tr></thead><tbody><tr><th>1</th><td>1</td><td>6</td><td>A</td></tr><tr><th>2</th><td>1</td><td>14</td><td>A</td></tr><tr><th>3</th><td>1</td><td>21</td><td>D</td></tr><tr><th>4</th><td>1</td><td>24</td><td>A</td></tr><tr><th>5</th><td>1</td><td>26</td><td>B</td></tr><tr><th>6</th><td>1</td><td>31</td><td>C</td></tr><tr><th>7</th><td>1</td><td>32</td><td>B</td></tr><tr><th>8</th><td>1</td><td>37</td><td>C</td></tr><tr><th>9</th><td>1</td><td>41</td><td>D</td></tr><tr><th>10</th><td>1</td><td>48</td><td>C</td></tr><tr><th>11</th><td>1</td><td>53</td><td>B</td></tr><tr><th>12</th><td>1</td><td>58</td><td>C</td></tr><tr><th>13</th><td>1</td><td>62</td><td>B</td></tr><tr><th>14</th><td>2</td><td>64</td><td>C</td></tr><tr><th>15</th><td>2</td><td>72</td><td>C</td></tr><tr><th>16</th><td>2</td><td>74</td><td>B</td></tr><tr><th>17</th><td>2</td><td>76</td><td>D</td></tr><tr><th>18</th><td>2</td><td>84</td><td>A</td></tr><tr><th>19</th><td>2</td><td>87</td><td>D</td></tr><tr><th>20</th><td>2</td><td>89</td><td>B</td></tr><tr><th>21</th><td>2</td><td>91</td><td>D</td></tr><tr><th>22</th><td>3</td><td>97</td><td>E</td></tr><tr><th>23</th><td>3</td><td>104</td><td>C</td></tr><tr><th>24</th><td>3</td><td>105</td><td>D</td></tr><tr><th>25</th><td>3</td><td>111</td><td>D</td></tr><tr><th>26</th><td>3</td><td>115</td><td>A</td></tr><tr><th>27</th><td>3</td><td>119</td><td>E</td></tr><tr><th>28</th><td>3</td><td>122</td><td>B</td></tr><tr><th>29</th><td>3</td><td>129</td><td>C</td></tr><tr><th>30</th><td>3</td><td>131</td><td>C</td></tr><tr><th>&vellip;</th><td>&vellip;</td><td>&vellip;</td><td>&vellip;</td></tr></tbody></table>"
      ],
      "text/plain": [
       "1024×3 DataFrames.DataFrame\n",
       "│ Row  │ subject │ time │ event │\n",
       "├──────┼─────────┼──────┼───────┤\n",
       "│ 1    │ 1       │ 6    │ 'A'   │\n",
       "│ 2    │ 1       │ 14   │ 'A'   │\n",
       "│ 3    │ 1       │ 21   │ 'D'   │\n",
       "│ 4    │ 1       │ 24   │ 'A'   │\n",
       "│ 5    │ 1       │ 26   │ 'B'   │\n",
       "│ 6    │ 1       │ 31   │ 'C'   │\n",
       "│ 7    │ 1       │ 32   │ 'B'   │\n",
       "│ 8    │ 1       │ 37   │ 'C'   │\n",
       "│ 9    │ 1       │ 41   │ 'D'   │\n",
       "│ 10   │ 1       │ 48   │ 'C'   │\n",
       "│ 11   │ 1       │ 53   │ 'B'   │\n",
       "⋮\n",
       "│ 1013 │ 64      │ 4561 │ 'C'   │\n",
       "│ 1014 │ 64      │ 4569 │ 'C'   │\n",
       "│ 1015 │ 64      │ 4570 │ 'E'   │\n",
       "│ 1016 │ 64      │ 4574 │ 'C'   │\n",
       "│ 1017 │ 64      │ 4579 │ 'D'   │\n",
       "│ 1018 │ 64      │ 4584 │ 'C'   │\n",
       "│ 1019 │ 64      │ 4588 │ 'A'   │\n",
       "│ 1020 │ 64      │ 4590 │ 'C'   │\n",
       "│ 1021 │ 64      │ 4592 │ 'D'   │\n",
       "│ 1022 │ 64      │ 4599 │ 'B'   │\n",
       "│ 1023 │ 64      │ 4601 │ 'B'   │\n",
       "│ 1024 │ 64      │ 4603 │ 'C'   │"
      ]
     },
     "execution_count": 25,
     "metadata": {},
     "output_type": "execute_result"
    }
   ],
   "source": [
    "exportdata = DataFrame(\n",
    "    subject = sort(rand(1:64, 1024)),\n",
    "    time = cumsum(rand(1:8, 1024)),\n",
    "    event = rand(['A', 'B', 'B', 'C', 'C', 'C', 'C', 'D', 'D', 'E'], 1024)\n",
    ")"
   ]
  },
  {
   "cell_type": "markdown",
   "metadata": {},
   "source": [
    "Notice that the time is increasing across all subjects. Instead we want to be the cumulative sum strictly within each subject. To accomplish this we use logical indexing to pull the last time from each subject and subtract it from the times of the next subject."
   ]
  },
  {
   "cell_type": "markdown",
   "metadata": {},
   "source": [
    "First find the logic index of the row before the subject changed."
   ]
  },
  {
   "cell_type": "code",
   "execution_count": 26,
   "metadata": {
    "collapsed": false
   },
   "outputs": [
    {
     "data": {
      "text/html": [
       "<table class=\"data-frame\"><thead><tr><th></th><th>subject</th><th>time</th><th>event</th><th>before</th></tr></thead><tbody><tr><th>1</th><td>1</td><td>6</td><td>A</td><td>false</td></tr><tr><th>2</th><td>1</td><td>14</td><td>A</td><td>false</td></tr><tr><th>3</th><td>1</td><td>21</td><td>D</td><td>false</td></tr><tr><th>4</th><td>1</td><td>24</td><td>A</td><td>false</td></tr><tr><th>5</th><td>1</td><td>26</td><td>B</td><td>false</td></tr><tr><th>6</th><td>1</td><td>31</td><td>C</td><td>false</td></tr><tr><th>7</th><td>1</td><td>32</td><td>B</td><td>false</td></tr><tr><th>8</th><td>1</td><td>37</td><td>C</td><td>false</td></tr><tr><th>9</th><td>1</td><td>41</td><td>D</td><td>false</td></tr><tr><th>10</th><td>1</td><td>48</td><td>C</td><td>false</td></tr><tr><th>11</th><td>1</td><td>53</td><td>B</td><td>false</td></tr><tr><th>12</th><td>1</td><td>58</td><td>C</td><td>false</td></tr><tr><th>13</th><td>1</td><td>62</td><td>B</td><td>true</td></tr><tr><th>14</th><td>2</td><td>64</td><td>C</td><td>false</td></tr><tr><th>15</th><td>2</td><td>72</td><td>C</td><td>false</td></tr><tr><th>16</th><td>2</td><td>74</td><td>B</td><td>false</td></tr><tr><th>17</th><td>2</td><td>76</td><td>D</td><td>false</td></tr><tr><th>18</th><td>2</td><td>84</td><td>A</td><td>false</td></tr><tr><th>19</th><td>2</td><td>87</td><td>D</td><td>false</td></tr><tr><th>20</th><td>2</td><td>89</td><td>B</td><td>false</td></tr><tr><th>21</th><td>2</td><td>91</td><td>D</td><td>true</td></tr><tr><th>22</th><td>3</td><td>97</td><td>E</td><td>false</td></tr><tr><th>23</th><td>3</td><td>104</td><td>C</td><td>false</td></tr><tr><th>24</th><td>3</td><td>105</td><td>D</td><td>false</td></tr><tr><th>25</th><td>3</td><td>111</td><td>D</td><td>false</td></tr><tr><th>26</th><td>3</td><td>115</td><td>A</td><td>false</td></tr><tr><th>27</th><td>3</td><td>119</td><td>E</td><td>false</td></tr><tr><th>28</th><td>3</td><td>122</td><td>B</td><td>false</td></tr><tr><th>29</th><td>3</td><td>129</td><td>C</td><td>false</td></tr><tr><th>30</th><td>3</td><td>131</td><td>C</td><td>false</td></tr><tr><th>&vellip;</th><td>&vellip;</td><td>&vellip;</td><td>&vellip;</td><td>&vellip;</td></tr></tbody></table>"
      ],
      "text/plain": [
       "1024×4 DataFrames.DataFrame\n",
       "│ Row  │ subject │ time │ event │ before │\n",
       "├──────┼─────────┼──────┼───────┼────────┤\n",
       "│ 1    │ 1       │ 6    │ 'A'   │ false  │\n",
       "│ 2    │ 1       │ 14   │ 'A'   │ false  │\n",
       "│ 3    │ 1       │ 21   │ 'D'   │ false  │\n",
       "│ 4    │ 1       │ 24   │ 'A'   │ false  │\n",
       "│ 5    │ 1       │ 26   │ 'B'   │ false  │\n",
       "│ 6    │ 1       │ 31   │ 'C'   │ false  │\n",
       "│ 7    │ 1       │ 32   │ 'B'   │ false  │\n",
       "│ 8    │ 1       │ 37   │ 'C'   │ false  │\n",
       "│ 9    │ 1       │ 41   │ 'D'   │ false  │\n",
       "│ 10   │ 1       │ 48   │ 'C'   │ false  │\n",
       "│ 11   │ 1       │ 53   │ 'B'   │ false  │\n",
       "⋮\n",
       "│ 1013 │ 64      │ 4561 │ 'C'   │ false  │\n",
       "│ 1014 │ 64      │ 4569 │ 'C'   │ false  │\n",
       "│ 1015 │ 64      │ 4570 │ 'E'   │ false  │\n",
       "│ 1016 │ 64      │ 4574 │ 'C'   │ false  │\n",
       "│ 1017 │ 64      │ 4579 │ 'D'   │ false  │\n",
       "│ 1018 │ 64      │ 4584 │ 'C'   │ false  │\n",
       "│ 1019 │ 64      │ 4588 │ 'A'   │ false  │\n",
       "│ 1020 │ 64      │ 4590 │ 'C'   │ false  │\n",
       "│ 1021 │ 64      │ 4592 │ 'D'   │ false  │\n",
       "│ 1022 │ 64      │ 4599 │ 'B'   │ false  │\n",
       "│ 1023 │ 64      │ 4601 │ 'B'   │ false  │\n",
       "│ 1024 │ 64      │ 4603 │ 'C'   │ false  │"
      ]
     },
     "execution_count": 26,
     "metadata": {},
     "output_type": "execute_result"
    }
   ],
   "source": [
    "exportdata[:before] = [exportdata[:subject][1:end-1] .!= exportdata[:subject][2:end];false];\n",
    "exportdata"
   ]
  },
  {
   "cell_type": "markdown",
   "metadata": {},
   "source": [
    "Similarly find the logical index of the row after the subject changed."
   ]
  },
  {
   "cell_type": "code",
   "execution_count": 27,
   "metadata": {
    "collapsed": false
   },
   "outputs": [
    {
     "data": {
      "text/html": [
       "<table class=\"data-frame\"><thead><tr><th></th><th>subject</th><th>time</th><th>event</th><th>before</th><th>after</th></tr></thead><tbody><tr><th>1</th><td>1</td><td>6</td><td>A</td><td>false</td><td>false</td></tr><tr><th>2</th><td>1</td><td>14</td><td>A</td><td>false</td><td>false</td></tr><tr><th>3</th><td>1</td><td>21</td><td>D</td><td>false</td><td>false</td></tr><tr><th>4</th><td>1</td><td>24</td><td>A</td><td>false</td><td>false</td></tr><tr><th>5</th><td>1</td><td>26</td><td>B</td><td>false</td><td>false</td></tr><tr><th>6</th><td>1</td><td>31</td><td>C</td><td>false</td><td>false</td></tr><tr><th>7</th><td>1</td><td>32</td><td>B</td><td>false</td><td>false</td></tr><tr><th>8</th><td>1</td><td>37</td><td>C</td><td>false</td><td>false</td></tr><tr><th>9</th><td>1</td><td>41</td><td>D</td><td>false</td><td>false</td></tr><tr><th>10</th><td>1</td><td>48</td><td>C</td><td>false</td><td>false</td></tr><tr><th>11</th><td>1</td><td>53</td><td>B</td><td>false</td><td>false</td></tr><tr><th>12</th><td>1</td><td>58</td><td>C</td><td>false</td><td>false</td></tr><tr><th>13</th><td>1</td><td>62</td><td>B</td><td>true</td><td>false</td></tr><tr><th>14</th><td>2</td><td>64</td><td>C</td><td>false</td><td>true</td></tr><tr><th>15</th><td>2</td><td>72</td><td>C</td><td>false</td><td>false</td></tr><tr><th>16</th><td>2</td><td>74</td><td>B</td><td>false</td><td>false</td></tr><tr><th>17</th><td>2</td><td>76</td><td>D</td><td>false</td><td>false</td></tr><tr><th>18</th><td>2</td><td>84</td><td>A</td><td>false</td><td>false</td></tr><tr><th>19</th><td>2</td><td>87</td><td>D</td><td>false</td><td>false</td></tr><tr><th>20</th><td>2</td><td>89</td><td>B</td><td>false</td><td>false</td></tr><tr><th>21</th><td>2</td><td>91</td><td>D</td><td>true</td><td>false</td></tr><tr><th>22</th><td>3</td><td>97</td><td>E</td><td>false</td><td>true</td></tr><tr><th>23</th><td>3</td><td>104</td><td>C</td><td>false</td><td>false</td></tr><tr><th>24</th><td>3</td><td>105</td><td>D</td><td>false</td><td>false</td></tr><tr><th>25</th><td>3</td><td>111</td><td>D</td><td>false</td><td>false</td></tr><tr><th>26</th><td>3</td><td>115</td><td>A</td><td>false</td><td>false</td></tr><tr><th>27</th><td>3</td><td>119</td><td>E</td><td>false</td><td>false</td></tr><tr><th>28</th><td>3</td><td>122</td><td>B</td><td>false</td><td>false</td></tr><tr><th>29</th><td>3</td><td>129</td><td>C</td><td>false</td><td>false</td></tr><tr><th>30</th><td>3</td><td>131</td><td>C</td><td>false</td><td>false</td></tr><tr><th>&vellip;</th><td>&vellip;</td><td>&vellip;</td><td>&vellip;</td><td>&vellip;</td><td>&vellip;</td></tr></tbody></table>"
      ],
      "text/plain": [
       "1024×5 DataFrames.DataFrame\n",
       "│ Row  │ subject │ time │ event │ before │ after │\n",
       "├──────┼─────────┼──────┼───────┼────────┼───────┤\n",
       "│ 1    │ 1       │ 6    │ 'A'   │ false  │ false │\n",
       "│ 2    │ 1       │ 14   │ 'A'   │ false  │ false │\n",
       "│ 3    │ 1       │ 21   │ 'D'   │ false  │ false │\n",
       "│ 4    │ 1       │ 24   │ 'A'   │ false  │ false │\n",
       "│ 5    │ 1       │ 26   │ 'B'   │ false  │ false │\n",
       "│ 6    │ 1       │ 31   │ 'C'   │ false  │ false │\n",
       "│ 7    │ 1       │ 32   │ 'B'   │ false  │ false │\n",
       "│ 8    │ 1       │ 37   │ 'C'   │ false  │ false │\n",
       "│ 9    │ 1       │ 41   │ 'D'   │ false  │ false │\n",
       "│ 10   │ 1       │ 48   │ 'C'   │ false  │ false │\n",
       "│ 11   │ 1       │ 53   │ 'B'   │ false  │ false │\n",
       "⋮\n",
       "│ 1013 │ 64      │ 4561 │ 'C'   │ false  │ false │\n",
       "│ 1014 │ 64      │ 4569 │ 'C'   │ false  │ false │\n",
       "│ 1015 │ 64      │ 4570 │ 'E'   │ false  │ false │\n",
       "│ 1016 │ 64      │ 4574 │ 'C'   │ false  │ false │\n",
       "│ 1017 │ 64      │ 4579 │ 'D'   │ false  │ false │\n",
       "│ 1018 │ 64      │ 4584 │ 'C'   │ false  │ false │\n",
       "│ 1019 │ 64      │ 4588 │ 'A'   │ false  │ false │\n",
       "│ 1020 │ 64      │ 4590 │ 'C'   │ false  │ false │\n",
       "│ 1021 │ 64      │ 4592 │ 'D'   │ false  │ false │\n",
       "│ 1022 │ 64      │ 4599 │ 'B'   │ false  │ false │\n",
       "│ 1023 │ 64      │ 4601 │ 'B'   │ false  │ false │\n",
       "│ 1024 │ 64      │ 4603 │ 'C'   │ false  │ false │"
      ]
     },
     "execution_count": 27,
     "metadata": {},
     "output_type": "execute_result"
    }
   ],
   "source": [
    "exportdata[:after] = [false; exportdata[:before][1:end-1]];\n",
    "exportdata"
   ]
  },
  {
   "cell_type": "markdown",
   "metadata": {},
   "source": [
    "Next initialize a column to contain the shift of baseline time for each subject."
   ]
  },
  {
   "cell_type": "code",
   "execution_count": 28,
   "metadata": {
    "collapsed": false
   },
   "outputs": [
    {
     "data": {
      "text/html": [
       "<table class=\"data-frame\"><thead><tr><th></th><th>subject</th><th>time</th><th>event</th><th>before</th><th>after</th><th>shift</th></tr></thead><tbody><tr><th>1</th><td>1</td><td>6</td><td>A</td><td>false</td><td>false</td><td>0</td></tr><tr><th>2</th><td>1</td><td>14</td><td>A</td><td>false</td><td>false</td><td>0</td></tr><tr><th>3</th><td>1</td><td>21</td><td>D</td><td>false</td><td>false</td><td>0</td></tr><tr><th>4</th><td>1</td><td>24</td><td>A</td><td>false</td><td>false</td><td>0</td></tr><tr><th>5</th><td>1</td><td>26</td><td>B</td><td>false</td><td>false</td><td>0</td></tr><tr><th>6</th><td>1</td><td>31</td><td>C</td><td>false</td><td>false</td><td>0</td></tr><tr><th>7</th><td>1</td><td>32</td><td>B</td><td>false</td><td>false</td><td>0</td></tr><tr><th>8</th><td>1</td><td>37</td><td>C</td><td>false</td><td>false</td><td>0</td></tr><tr><th>9</th><td>1</td><td>41</td><td>D</td><td>false</td><td>false</td><td>0</td></tr><tr><th>10</th><td>1</td><td>48</td><td>C</td><td>false</td><td>false</td><td>0</td></tr><tr><th>11</th><td>1</td><td>53</td><td>B</td><td>false</td><td>false</td><td>0</td></tr><tr><th>12</th><td>1</td><td>58</td><td>C</td><td>false</td><td>false</td><td>0</td></tr><tr><th>13</th><td>1</td><td>62</td><td>B</td><td>true</td><td>false</td><td>0</td></tr><tr><th>14</th><td>2</td><td>64</td><td>C</td><td>false</td><td>true</td><td>0</td></tr><tr><th>15</th><td>2</td><td>72</td><td>C</td><td>false</td><td>false</td><td>0</td></tr><tr><th>16</th><td>2</td><td>74</td><td>B</td><td>false</td><td>false</td><td>0</td></tr><tr><th>17</th><td>2</td><td>76</td><td>D</td><td>false</td><td>false</td><td>0</td></tr><tr><th>18</th><td>2</td><td>84</td><td>A</td><td>false</td><td>false</td><td>0</td></tr><tr><th>19</th><td>2</td><td>87</td><td>D</td><td>false</td><td>false</td><td>0</td></tr><tr><th>20</th><td>2</td><td>89</td><td>B</td><td>false</td><td>false</td><td>0</td></tr><tr><th>21</th><td>2</td><td>91</td><td>D</td><td>true</td><td>false</td><td>0</td></tr><tr><th>22</th><td>3</td><td>97</td><td>E</td><td>false</td><td>true</td><td>0</td></tr><tr><th>23</th><td>3</td><td>104</td><td>C</td><td>false</td><td>false</td><td>0</td></tr><tr><th>24</th><td>3</td><td>105</td><td>D</td><td>false</td><td>false</td><td>0</td></tr><tr><th>25</th><td>3</td><td>111</td><td>D</td><td>false</td><td>false</td><td>0</td></tr><tr><th>26</th><td>3</td><td>115</td><td>A</td><td>false</td><td>false</td><td>0</td></tr><tr><th>27</th><td>3</td><td>119</td><td>E</td><td>false</td><td>false</td><td>0</td></tr><tr><th>28</th><td>3</td><td>122</td><td>B</td><td>false</td><td>false</td><td>0</td></tr><tr><th>29</th><td>3</td><td>129</td><td>C</td><td>false</td><td>false</td><td>0</td></tr><tr><th>30</th><td>3</td><td>131</td><td>C</td><td>false</td><td>false</td><td>0</td></tr><tr><th>&vellip;</th><td>&vellip;</td><td>&vellip;</td><td>&vellip;</td><td>&vellip;</td><td>&vellip;</td><td>&vellip;</td></tr></tbody></table>"
      ],
      "text/plain": [
       "1024×6 DataFrames.DataFrame\n",
       "│ Row  │ subject │ time │ event │ before │ after │ shift │\n",
       "├──────┼─────────┼──────┼───────┼────────┼───────┼───────┤\n",
       "│ 1    │ 1       │ 6    │ 'A'   │ false  │ false │ 0     │\n",
       "│ 2    │ 1       │ 14   │ 'A'   │ false  │ false │ 0     │\n",
       "│ 3    │ 1       │ 21   │ 'D'   │ false  │ false │ 0     │\n",
       "│ 4    │ 1       │ 24   │ 'A'   │ false  │ false │ 0     │\n",
       "│ 5    │ 1       │ 26   │ 'B'   │ false  │ false │ 0     │\n",
       "│ 6    │ 1       │ 31   │ 'C'   │ false  │ false │ 0     │\n",
       "│ 7    │ 1       │ 32   │ 'B'   │ false  │ false │ 0     │\n",
       "│ 8    │ 1       │ 37   │ 'C'   │ false  │ false │ 0     │\n",
       "│ 9    │ 1       │ 41   │ 'D'   │ false  │ false │ 0     │\n",
       "│ 10   │ 1       │ 48   │ 'C'   │ false  │ false │ 0     │\n",
       "│ 11   │ 1       │ 53   │ 'B'   │ false  │ false │ 0     │\n",
       "⋮\n",
       "│ 1013 │ 64      │ 4561 │ 'C'   │ false  │ false │ 0     │\n",
       "│ 1014 │ 64      │ 4569 │ 'C'   │ false  │ false │ 0     │\n",
       "│ 1015 │ 64      │ 4570 │ 'E'   │ false  │ false │ 0     │\n",
       "│ 1016 │ 64      │ 4574 │ 'C'   │ false  │ false │ 0     │\n",
       "│ 1017 │ 64      │ 4579 │ 'D'   │ false  │ false │ 0     │\n",
       "│ 1018 │ 64      │ 4584 │ 'C'   │ false  │ false │ 0     │\n",
       "│ 1019 │ 64      │ 4588 │ 'A'   │ false  │ false │ 0     │\n",
       "│ 1020 │ 64      │ 4590 │ 'C'   │ false  │ false │ 0     │\n",
       "│ 1021 │ 64      │ 4592 │ 'D'   │ false  │ false │ 0     │\n",
       "│ 1022 │ 64      │ 4599 │ 'B'   │ false  │ false │ 0     │\n",
       "│ 1023 │ 64      │ 4601 │ 'B'   │ false  │ false │ 0     │\n",
       "│ 1024 │ 64      │ 4603 │ 'C'   │ false  │ false │ 0     │"
      ]
     },
     "execution_count": 28,
     "metadata": {},
     "output_type": "execute_result"
    }
   ],
   "source": [
    "exportdata[:shift] = zeros(Int, 1024);\n",
    "exportdata"
   ]
  },
  {
   "cell_type": "markdown",
   "metadata": {},
   "source": [
    "Into the baseline shift of each row following the change in subject place the difference between the successive start times of each subject."
   ]
  },
  {
   "cell_type": "code",
   "execution_count": 29,
   "metadata": {
    "collapsed": false
   },
   "outputs": [
    {
     "data": {
      "text/html": [
       "<table class=\"data-frame\"><thead><tr><th></th><th>subject</th><th>time</th><th>event</th><th>before</th><th>after</th><th>shift</th></tr></thead><tbody><tr><th>1</th><td>1</td><td>6</td><td>A</td><td>false</td><td>false</td><td>0</td></tr><tr><th>2</th><td>1</td><td>14</td><td>A</td><td>false</td><td>false</td><td>0</td></tr><tr><th>3</th><td>1</td><td>21</td><td>D</td><td>false</td><td>false</td><td>0</td></tr><tr><th>4</th><td>1</td><td>24</td><td>A</td><td>false</td><td>false</td><td>0</td></tr><tr><th>5</th><td>1</td><td>26</td><td>B</td><td>false</td><td>false</td><td>0</td></tr><tr><th>6</th><td>1</td><td>31</td><td>C</td><td>false</td><td>false</td><td>0</td></tr><tr><th>7</th><td>1</td><td>32</td><td>B</td><td>false</td><td>false</td><td>0</td></tr><tr><th>8</th><td>1</td><td>37</td><td>C</td><td>false</td><td>false</td><td>0</td></tr><tr><th>9</th><td>1</td><td>41</td><td>D</td><td>false</td><td>false</td><td>0</td></tr><tr><th>10</th><td>1</td><td>48</td><td>C</td><td>false</td><td>false</td><td>0</td></tr><tr><th>11</th><td>1</td><td>53</td><td>B</td><td>false</td><td>false</td><td>0</td></tr><tr><th>12</th><td>1</td><td>58</td><td>C</td><td>false</td><td>false</td><td>0</td></tr><tr><th>13</th><td>1</td><td>62</td><td>B</td><td>true</td><td>false</td><td>0</td></tr><tr><th>14</th><td>2</td><td>64</td><td>C</td><td>false</td><td>true</td><td>62</td></tr><tr><th>15</th><td>2</td><td>72</td><td>C</td><td>false</td><td>false</td><td>0</td></tr><tr><th>16</th><td>2</td><td>74</td><td>B</td><td>false</td><td>false</td><td>0</td></tr><tr><th>17</th><td>2</td><td>76</td><td>D</td><td>false</td><td>false</td><td>0</td></tr><tr><th>18</th><td>2</td><td>84</td><td>A</td><td>false</td><td>false</td><td>0</td></tr><tr><th>19</th><td>2</td><td>87</td><td>D</td><td>false</td><td>false</td><td>0</td></tr><tr><th>20</th><td>2</td><td>89</td><td>B</td><td>false</td><td>false</td><td>0</td></tr><tr><th>21</th><td>2</td><td>91</td><td>D</td><td>true</td><td>false</td><td>0</td></tr><tr><th>22</th><td>3</td><td>97</td><td>E</td><td>false</td><td>true</td><td>29</td></tr><tr><th>23</th><td>3</td><td>104</td><td>C</td><td>false</td><td>false</td><td>0</td></tr><tr><th>24</th><td>3</td><td>105</td><td>D</td><td>false</td><td>false</td><td>0</td></tr><tr><th>25</th><td>3</td><td>111</td><td>D</td><td>false</td><td>false</td><td>0</td></tr><tr><th>26</th><td>3</td><td>115</td><td>A</td><td>false</td><td>false</td><td>0</td></tr><tr><th>27</th><td>3</td><td>119</td><td>E</td><td>false</td><td>false</td><td>0</td></tr><tr><th>28</th><td>3</td><td>122</td><td>B</td><td>false</td><td>false</td><td>0</td></tr><tr><th>29</th><td>3</td><td>129</td><td>C</td><td>false</td><td>false</td><td>0</td></tr><tr><th>30</th><td>3</td><td>131</td><td>C</td><td>false</td><td>false</td><td>0</td></tr><tr><th>&vellip;</th><td>&vellip;</td><td>&vellip;</td><td>&vellip;</td><td>&vellip;</td><td>&vellip;</td><td>&vellip;</td></tr></tbody></table>"
      ],
      "text/plain": [
       "1024×6 DataFrames.DataFrame\n",
       "│ Row  │ subject │ time │ event │ before │ after │ shift │\n",
       "├──────┼─────────┼──────┼───────┼────────┼───────┼───────┤\n",
       "│ 1    │ 1       │ 6    │ 'A'   │ false  │ false │ 0     │\n",
       "│ 2    │ 1       │ 14   │ 'A'   │ false  │ false │ 0     │\n",
       "│ 3    │ 1       │ 21   │ 'D'   │ false  │ false │ 0     │\n",
       "│ 4    │ 1       │ 24   │ 'A'   │ false  │ false │ 0     │\n",
       "│ 5    │ 1       │ 26   │ 'B'   │ false  │ false │ 0     │\n",
       "│ 6    │ 1       │ 31   │ 'C'   │ false  │ false │ 0     │\n",
       "│ 7    │ 1       │ 32   │ 'B'   │ false  │ false │ 0     │\n",
       "│ 8    │ 1       │ 37   │ 'C'   │ false  │ false │ 0     │\n",
       "│ 9    │ 1       │ 41   │ 'D'   │ false  │ false │ 0     │\n",
       "│ 10   │ 1       │ 48   │ 'C'   │ false  │ false │ 0     │\n",
       "│ 11   │ 1       │ 53   │ 'B'   │ false  │ false │ 0     │\n",
       "⋮\n",
       "│ 1013 │ 64      │ 4561 │ 'C'   │ false  │ false │ 0     │\n",
       "│ 1014 │ 64      │ 4569 │ 'C'   │ false  │ false │ 0     │\n",
       "│ 1015 │ 64      │ 4570 │ 'E'   │ false  │ false │ 0     │\n",
       "│ 1016 │ 64      │ 4574 │ 'C'   │ false  │ false │ 0     │\n",
       "│ 1017 │ 64      │ 4579 │ 'D'   │ false  │ false │ 0     │\n",
       "│ 1018 │ 64      │ 4584 │ 'C'   │ false  │ false │ 0     │\n",
       "│ 1019 │ 64      │ 4588 │ 'A'   │ false  │ false │ 0     │\n",
       "│ 1020 │ 64      │ 4590 │ 'C'   │ false  │ false │ 0     │\n",
       "│ 1021 │ 64      │ 4592 │ 'D'   │ false  │ false │ 0     │\n",
       "│ 1022 │ 64      │ 4599 │ 'B'   │ false  │ false │ 0     │\n",
       "│ 1023 │ 64      │ 4601 │ 'B'   │ false  │ false │ 0     │\n",
       "│ 1024 │ 64      │ 4603 │ 'C'   │ false  │ false │ 0     │"
      ]
     },
     "execution_count": 29,
     "metadata": {},
     "output_type": "execute_result"
    }
   ],
   "source": [
    "exportdata[:shift][exportdata[:after]] = \n",
    "    exportdata[:time][exportdata[:before]] - \n",
    "    [0; exportdata[:time][exportdata[:before]][1:end-1]];\n",
    "exportdata"
   ]
  },
  {
   "cell_type": "markdown",
   "metadata": {},
   "source": [
    "Fill in the zeroes by running a cummulative sum over the shift column."
   ]
  },
  {
   "cell_type": "code",
   "execution_count": 30,
   "metadata": {
    "collapsed": false
   },
   "outputs": [
    {
     "data": {
      "text/html": [
       "<table class=\"data-frame\"><thead><tr><th></th><th>subject</th><th>time</th><th>event</th><th>before</th><th>after</th><th>shift</th></tr></thead><tbody><tr><th>1</th><td>1</td><td>6</td><td>A</td><td>false</td><td>false</td><td>0</td></tr><tr><th>2</th><td>1</td><td>14</td><td>A</td><td>false</td><td>false</td><td>0</td></tr><tr><th>3</th><td>1</td><td>21</td><td>D</td><td>false</td><td>false</td><td>0</td></tr><tr><th>4</th><td>1</td><td>24</td><td>A</td><td>false</td><td>false</td><td>0</td></tr><tr><th>5</th><td>1</td><td>26</td><td>B</td><td>false</td><td>false</td><td>0</td></tr><tr><th>6</th><td>1</td><td>31</td><td>C</td><td>false</td><td>false</td><td>0</td></tr><tr><th>7</th><td>1</td><td>32</td><td>B</td><td>false</td><td>false</td><td>0</td></tr><tr><th>8</th><td>1</td><td>37</td><td>C</td><td>false</td><td>false</td><td>0</td></tr><tr><th>9</th><td>1</td><td>41</td><td>D</td><td>false</td><td>false</td><td>0</td></tr><tr><th>10</th><td>1</td><td>48</td><td>C</td><td>false</td><td>false</td><td>0</td></tr><tr><th>11</th><td>1</td><td>53</td><td>B</td><td>false</td><td>false</td><td>0</td></tr><tr><th>12</th><td>1</td><td>58</td><td>C</td><td>false</td><td>false</td><td>0</td></tr><tr><th>13</th><td>1</td><td>62</td><td>B</td><td>true</td><td>false</td><td>0</td></tr><tr><th>14</th><td>2</td><td>64</td><td>C</td><td>false</td><td>true</td><td>62</td></tr><tr><th>15</th><td>2</td><td>72</td><td>C</td><td>false</td><td>false</td><td>62</td></tr><tr><th>16</th><td>2</td><td>74</td><td>B</td><td>false</td><td>false</td><td>62</td></tr><tr><th>17</th><td>2</td><td>76</td><td>D</td><td>false</td><td>false</td><td>62</td></tr><tr><th>18</th><td>2</td><td>84</td><td>A</td><td>false</td><td>false</td><td>62</td></tr><tr><th>19</th><td>2</td><td>87</td><td>D</td><td>false</td><td>false</td><td>62</td></tr><tr><th>20</th><td>2</td><td>89</td><td>B</td><td>false</td><td>false</td><td>62</td></tr><tr><th>21</th><td>2</td><td>91</td><td>D</td><td>true</td><td>false</td><td>62</td></tr><tr><th>22</th><td>3</td><td>97</td><td>E</td><td>false</td><td>true</td><td>91</td></tr><tr><th>23</th><td>3</td><td>104</td><td>C</td><td>false</td><td>false</td><td>91</td></tr><tr><th>24</th><td>3</td><td>105</td><td>D</td><td>false</td><td>false</td><td>91</td></tr><tr><th>25</th><td>3</td><td>111</td><td>D</td><td>false</td><td>false</td><td>91</td></tr><tr><th>26</th><td>3</td><td>115</td><td>A</td><td>false</td><td>false</td><td>91</td></tr><tr><th>27</th><td>3</td><td>119</td><td>E</td><td>false</td><td>false</td><td>91</td></tr><tr><th>28</th><td>3</td><td>122</td><td>B</td><td>false</td><td>false</td><td>91</td></tr><tr><th>29</th><td>3</td><td>129</td><td>C</td><td>false</td><td>false</td><td>91</td></tr><tr><th>30</th><td>3</td><td>131</td><td>C</td><td>false</td><td>false</td><td>91</td></tr><tr><th>&vellip;</th><td>&vellip;</td><td>&vellip;</td><td>&vellip;</td><td>&vellip;</td><td>&vellip;</td><td>&vellip;</td></tr></tbody></table>"
      ],
      "text/plain": [
       "1024×6 DataFrames.DataFrame\n",
       "│ Row  │ subject │ time │ event │ before │ after │ shift │\n",
       "├──────┼─────────┼──────┼───────┼────────┼───────┼───────┤\n",
       "│ 1    │ 1       │ 6    │ 'A'   │ false  │ false │ 0     │\n",
       "│ 2    │ 1       │ 14   │ 'A'   │ false  │ false │ 0     │\n",
       "│ 3    │ 1       │ 21   │ 'D'   │ false  │ false │ 0     │\n",
       "│ 4    │ 1       │ 24   │ 'A'   │ false  │ false │ 0     │\n",
       "│ 5    │ 1       │ 26   │ 'B'   │ false  │ false │ 0     │\n",
       "│ 6    │ 1       │ 31   │ 'C'   │ false  │ false │ 0     │\n",
       "│ 7    │ 1       │ 32   │ 'B'   │ false  │ false │ 0     │\n",
       "│ 8    │ 1       │ 37   │ 'C'   │ false  │ false │ 0     │\n",
       "│ 9    │ 1       │ 41   │ 'D'   │ false  │ false │ 0     │\n",
       "│ 10   │ 1       │ 48   │ 'C'   │ false  │ false │ 0     │\n",
       "│ 11   │ 1       │ 53   │ 'B'   │ false  │ false │ 0     │\n",
       "⋮\n",
       "│ 1013 │ 64      │ 4561 │ 'C'   │ false  │ false │ 4531  │\n",
       "│ 1014 │ 64      │ 4569 │ 'C'   │ false  │ false │ 4531  │\n",
       "│ 1015 │ 64      │ 4570 │ 'E'   │ false  │ false │ 4531  │\n",
       "│ 1016 │ 64      │ 4574 │ 'C'   │ false  │ false │ 4531  │\n",
       "│ 1017 │ 64      │ 4579 │ 'D'   │ false  │ false │ 4531  │\n",
       "│ 1018 │ 64      │ 4584 │ 'C'   │ false  │ false │ 4531  │\n",
       "│ 1019 │ 64      │ 4588 │ 'A'   │ false  │ false │ 4531  │\n",
       "│ 1020 │ 64      │ 4590 │ 'C'   │ false  │ false │ 4531  │\n",
       "│ 1021 │ 64      │ 4592 │ 'D'   │ false  │ false │ 4531  │\n",
       "│ 1022 │ 64      │ 4599 │ 'B'   │ false  │ false │ 4531  │\n",
       "│ 1023 │ 64      │ 4601 │ 'B'   │ false  │ false │ 4531  │\n",
       "│ 1024 │ 64      │ 4603 │ 'C'   │ false  │ false │ 4531  │"
      ]
     },
     "execution_count": 30,
     "metadata": {},
     "output_type": "execute_result"
    }
   ],
   "source": [
    "exportdata[:shift] = cumsum(exportdata[:shift]);\n",
    "exportdata"
   ]
  },
  {
   "cell_type": "markdown",
   "metadata": {},
   "source": [
    "Rectify the time for each subject by subtracting the baseline shift."
   ]
  },
  {
   "cell_type": "code",
   "execution_count": 31,
   "metadata": {
    "collapsed": false
   },
   "outputs": [
    {
     "data": {
      "text/html": [
       "<table class=\"data-frame\"><thead><tr><th></th><th>subject</th><th>time</th><th>event</th><th>before</th><th>after</th><th>shift</th></tr></thead><tbody><tr><th>1</th><td>1</td><td>6</td><td>A</td><td>false</td><td>false</td><td>0</td></tr><tr><th>2</th><td>1</td><td>14</td><td>A</td><td>false</td><td>false</td><td>0</td></tr><tr><th>3</th><td>1</td><td>21</td><td>D</td><td>false</td><td>false</td><td>0</td></tr><tr><th>4</th><td>1</td><td>24</td><td>A</td><td>false</td><td>false</td><td>0</td></tr><tr><th>5</th><td>1</td><td>26</td><td>B</td><td>false</td><td>false</td><td>0</td></tr><tr><th>6</th><td>1</td><td>31</td><td>C</td><td>false</td><td>false</td><td>0</td></tr><tr><th>7</th><td>1</td><td>32</td><td>B</td><td>false</td><td>false</td><td>0</td></tr><tr><th>8</th><td>1</td><td>37</td><td>C</td><td>false</td><td>false</td><td>0</td></tr><tr><th>9</th><td>1</td><td>41</td><td>D</td><td>false</td><td>false</td><td>0</td></tr><tr><th>10</th><td>1</td><td>48</td><td>C</td><td>false</td><td>false</td><td>0</td></tr><tr><th>11</th><td>1</td><td>53</td><td>B</td><td>false</td><td>false</td><td>0</td></tr><tr><th>12</th><td>1</td><td>58</td><td>C</td><td>false</td><td>false</td><td>0</td></tr><tr><th>13</th><td>1</td><td>62</td><td>B</td><td>true</td><td>false</td><td>0</td></tr><tr><th>14</th><td>2</td><td>2</td><td>C</td><td>false</td><td>true</td><td>62</td></tr><tr><th>15</th><td>2</td><td>10</td><td>C</td><td>false</td><td>false</td><td>62</td></tr><tr><th>16</th><td>2</td><td>12</td><td>B</td><td>false</td><td>false</td><td>62</td></tr><tr><th>17</th><td>2</td><td>14</td><td>D</td><td>false</td><td>false</td><td>62</td></tr><tr><th>18</th><td>2</td><td>22</td><td>A</td><td>false</td><td>false</td><td>62</td></tr><tr><th>19</th><td>2</td><td>25</td><td>D</td><td>false</td><td>false</td><td>62</td></tr><tr><th>20</th><td>2</td><td>27</td><td>B</td><td>false</td><td>false</td><td>62</td></tr><tr><th>21</th><td>2</td><td>29</td><td>D</td><td>true</td><td>false</td><td>62</td></tr><tr><th>22</th><td>3</td><td>6</td><td>E</td><td>false</td><td>true</td><td>91</td></tr><tr><th>23</th><td>3</td><td>13</td><td>C</td><td>false</td><td>false</td><td>91</td></tr><tr><th>24</th><td>3</td><td>14</td><td>D</td><td>false</td><td>false</td><td>91</td></tr><tr><th>25</th><td>3</td><td>20</td><td>D</td><td>false</td><td>false</td><td>91</td></tr><tr><th>26</th><td>3</td><td>24</td><td>A</td><td>false</td><td>false</td><td>91</td></tr><tr><th>27</th><td>3</td><td>28</td><td>E</td><td>false</td><td>false</td><td>91</td></tr><tr><th>28</th><td>3</td><td>31</td><td>B</td><td>false</td><td>false</td><td>91</td></tr><tr><th>29</th><td>3</td><td>38</td><td>C</td><td>false</td><td>false</td><td>91</td></tr><tr><th>30</th><td>3</td><td>40</td><td>C</td><td>false</td><td>false</td><td>91</td></tr><tr><th>&vellip;</th><td>&vellip;</td><td>&vellip;</td><td>&vellip;</td><td>&vellip;</td><td>&vellip;</td><td>&vellip;</td></tr></tbody></table>"
      ],
      "text/plain": [
       "1024×6 DataFrames.DataFrame\n",
       "│ Row  │ subject │ time │ event │ before │ after │ shift │\n",
       "├──────┼─────────┼──────┼───────┼────────┼───────┼───────┤\n",
       "│ 1    │ 1       │ 6    │ 'A'   │ false  │ false │ 0     │\n",
       "│ 2    │ 1       │ 14   │ 'A'   │ false  │ false │ 0     │\n",
       "│ 3    │ 1       │ 21   │ 'D'   │ false  │ false │ 0     │\n",
       "│ 4    │ 1       │ 24   │ 'A'   │ false  │ false │ 0     │\n",
       "│ 5    │ 1       │ 26   │ 'B'   │ false  │ false │ 0     │\n",
       "│ 6    │ 1       │ 31   │ 'C'   │ false  │ false │ 0     │\n",
       "│ 7    │ 1       │ 32   │ 'B'   │ false  │ false │ 0     │\n",
       "│ 8    │ 1       │ 37   │ 'C'   │ false  │ false │ 0     │\n",
       "│ 9    │ 1       │ 41   │ 'D'   │ false  │ false │ 0     │\n",
       "│ 10   │ 1       │ 48   │ 'C'   │ false  │ false │ 0     │\n",
       "│ 11   │ 1       │ 53   │ 'B'   │ false  │ false │ 0     │\n",
       "⋮\n",
       "│ 1013 │ 64      │ 30   │ 'C'   │ false  │ false │ 4531  │\n",
       "│ 1014 │ 64      │ 38   │ 'C'   │ false  │ false │ 4531  │\n",
       "│ 1015 │ 64      │ 39   │ 'E'   │ false  │ false │ 4531  │\n",
       "│ 1016 │ 64      │ 43   │ 'C'   │ false  │ false │ 4531  │\n",
       "│ 1017 │ 64      │ 48   │ 'D'   │ false  │ false │ 4531  │\n",
       "│ 1018 │ 64      │ 53   │ 'C'   │ false  │ false │ 4531  │\n",
       "│ 1019 │ 64      │ 57   │ 'A'   │ false  │ false │ 4531  │\n",
       "│ 1020 │ 64      │ 59   │ 'C'   │ false  │ false │ 4531  │\n",
       "│ 1021 │ 64      │ 61   │ 'D'   │ false  │ false │ 4531  │\n",
       "│ 1022 │ 64      │ 68   │ 'B'   │ false  │ false │ 4531  │\n",
       "│ 1023 │ 64      │ 70   │ 'B'   │ false  │ false │ 4531  │\n",
       "│ 1024 │ 64      │ 72   │ 'C'   │ false  │ false │ 4531  │"
      ]
     },
     "execution_count": 31,
     "metadata": {},
     "output_type": "execute_result"
    }
   ],
   "source": [
    "exportdata[:time] = exportdata[:time] - exportdata[:shift];\n",
    "exportdata"
   ]
  },
  {
   "cell_type": "markdown",
   "metadata": {},
   "source": [
    "We can now export the data, choosing the first 3 columns."
   ]
  },
  {
   "cell_type": "code",
   "execution_count": 34,
   "metadata": {
    "collapsed": false
   },
   "outputs": [],
   "source": [
    "writetable(\"export.csv\", exportdata[[:subject, :time, :event]])"
   ]
  }
 ],
 "metadata": {
  "kernelspec": {
   "display_name": "Julia 0.5.0",
   "language": "julia",
   "name": "julia-0.5"
  },
  "language_info": {
   "file_extension": ".jl",
   "mimetype": "application/julia",
   "name": "julia",
   "version": "0.5.0"
  }
 },
 "nbformat": 4,
 "nbformat_minor": 2
}
